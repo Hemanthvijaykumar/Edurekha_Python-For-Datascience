{
 "cells": [
  {
   "cell_type": "code",
   "execution_count": 1,
   "metadata": {
    "collapsed": true
   },
   "outputs": [],
   "source": [
    "import numpy as np\n",
    "import pandas as pd\n",
    "import matplotlib.pyplot as plt\n",
    "import seaborn as sns\n",
    "\n",
    "from sklearn.preprocessing import LabelEncoder\n",
    "from sklearn.model_selection import train_test_split\n",
    "\n",
    "from sklearn.metrics import accuracy_score,classification_report,confusion_matrix\n",
    "\n",
    "from sklearn.naive_bayes import  GaussianNB\n",
    "\n",
    "%matplotlib inline"
   ]
  },
  {
   "cell_type": "markdown",
   "metadata": {},
   "source": [
    "### 1.Load the kinematics dataset as measured on mobile sensors from the file “run_or_walk.csv”. List out the columns in the dataset. "
   ]
  },
  {
   "cell_type": "code",
   "execution_count": 2,
   "metadata": {
    "collapsed": true
   },
   "outputs": [],
   "source": [
    "data = pd.read_csv('run_or_walk.csv')"
   ]
  },
  {
   "cell_type": "code",
   "execution_count": 7,
   "metadata": {},
   "outputs": [
    {
     "data": {
      "text/plain": [
       "Index(['date', 'time', 'username', 'wrist', 'activity', 'acceleration_x',\n",
       "       'acceleration_y', 'acceleration_z', 'gyro_x', 'gyro_y', 'gyro_z'],\n",
       "      dtype='object')"
      ]
     },
     "execution_count": 7,
     "metadata": {},
     "output_type": "execute_result"
    }
   ],
   "source": [
    "columns = data.columns\n",
    "columns"
   ]
  },
  {
   "cell_type": "code",
   "execution_count": 3,
   "metadata": {},
   "outputs": [
    {
     "data": {
      "text/html": [
       "<div>\n",
       "<style scoped>\n",
       "    .dataframe tbody tr th:only-of-type {\n",
       "        vertical-align: middle;\n",
       "    }\n",
       "\n",
       "    .dataframe tbody tr th {\n",
       "        vertical-align: top;\n",
       "    }\n",
       "\n",
       "    .dataframe thead th {\n",
       "        text-align: right;\n",
       "    }\n",
       "</style>\n",
       "<table border=\"1\" class=\"dataframe\">\n",
       "  <thead>\n",
       "    <tr style=\"text-align: right;\">\n",
       "      <th></th>\n",
       "      <th>date</th>\n",
       "      <th>time</th>\n",
       "      <th>username</th>\n",
       "      <th>wrist</th>\n",
       "      <th>activity</th>\n",
       "      <th>acceleration_x</th>\n",
       "      <th>acceleration_y</th>\n",
       "      <th>acceleration_z</th>\n",
       "      <th>gyro_x</th>\n",
       "      <th>gyro_y</th>\n",
       "      <th>gyro_z</th>\n",
       "    </tr>\n",
       "  </thead>\n",
       "  <tbody>\n",
       "    <tr>\n",
       "      <th>0</th>\n",
       "      <td>2017-6-30</td>\n",
       "      <td>13:51:15:847724020</td>\n",
       "      <td>viktor</td>\n",
       "      <td>0</td>\n",
       "      <td>0</td>\n",
       "      <td>0.2650</td>\n",
       "      <td>-0.7814</td>\n",
       "      <td>-0.0076</td>\n",
       "      <td>-0.0590</td>\n",
       "      <td>0.0325</td>\n",
       "      <td>-2.9296</td>\n",
       "    </tr>\n",
       "    <tr>\n",
       "      <th>1</th>\n",
       "      <td>2017-6-30</td>\n",
       "      <td>13:51:16:246945023</td>\n",
       "      <td>viktor</td>\n",
       "      <td>0</td>\n",
       "      <td>0</td>\n",
       "      <td>0.6722</td>\n",
       "      <td>-1.1233</td>\n",
       "      <td>-0.2344</td>\n",
       "      <td>-0.1757</td>\n",
       "      <td>0.0208</td>\n",
       "      <td>0.1269</td>\n",
       "    </tr>\n",
       "    <tr>\n",
       "      <th>2</th>\n",
       "      <td>2017-6-30</td>\n",
       "      <td>13:51:16:446233987</td>\n",
       "      <td>viktor</td>\n",
       "      <td>0</td>\n",
       "      <td>0</td>\n",
       "      <td>0.4399</td>\n",
       "      <td>-1.4817</td>\n",
       "      <td>0.0722</td>\n",
       "      <td>-0.9105</td>\n",
       "      <td>0.1063</td>\n",
       "      <td>-2.4367</td>\n",
       "    </tr>\n",
       "    <tr>\n",
       "      <th>3</th>\n",
       "      <td>2017-6-30</td>\n",
       "      <td>13:51:16:646117985</td>\n",
       "      <td>viktor</td>\n",
       "      <td>0</td>\n",
       "      <td>0</td>\n",
       "      <td>0.3031</td>\n",
       "      <td>-0.8125</td>\n",
       "      <td>0.0888</td>\n",
       "      <td>0.1199</td>\n",
       "      <td>-0.4099</td>\n",
       "      <td>-2.9336</td>\n",
       "    </tr>\n",
       "    <tr>\n",
       "      <th>4</th>\n",
       "      <td>2017-6-30</td>\n",
       "      <td>13:51:16:846738994</td>\n",
       "      <td>viktor</td>\n",
       "      <td>0</td>\n",
       "      <td>0</td>\n",
       "      <td>0.4814</td>\n",
       "      <td>-0.9312</td>\n",
       "      <td>0.0359</td>\n",
       "      <td>0.0527</td>\n",
       "      <td>0.4379</td>\n",
       "      <td>2.4922</td>\n",
       "    </tr>\n",
       "  </tbody>\n",
       "</table>\n",
       "</div>"
      ],
      "text/plain": [
       "        date                time username  wrist  activity  acceleration_x  \\\n",
       "0  2017-6-30  13:51:15:847724020   viktor      0         0          0.2650   \n",
       "1  2017-6-30  13:51:16:246945023   viktor      0         0          0.6722   \n",
       "2  2017-6-30  13:51:16:446233987   viktor      0         0          0.4399   \n",
       "3  2017-6-30  13:51:16:646117985   viktor      0         0          0.3031   \n",
       "4  2017-6-30  13:51:16:846738994   viktor      0         0          0.4814   \n",
       "\n",
       "   acceleration_y  acceleration_z  gyro_x  gyro_y  gyro_z  \n",
       "0         -0.7814         -0.0076 -0.0590  0.0325 -2.9296  \n",
       "1         -1.1233         -0.2344 -0.1757  0.0208  0.1269  \n",
       "2         -1.4817          0.0722 -0.9105  0.1063 -2.4367  \n",
       "3         -0.8125          0.0888  0.1199 -0.4099 -2.9336  \n",
       "4         -0.9312          0.0359  0.0527  0.4379  2.4922  "
      ]
     },
     "execution_count": 3,
     "metadata": {},
     "output_type": "execute_result"
    }
   ],
   "source": [
    "data.head()"
   ]
  },
  {
   "cell_type": "code",
   "execution_count": 4,
   "metadata": {},
   "outputs": [
    {
     "data": {
      "text/plain": [
       "(88588, 11)"
      ]
     },
     "execution_count": 4,
     "metadata": {},
     "output_type": "execute_result"
    }
   ],
   "source": [
    "data.shape"
   ]
  },
  {
   "cell_type": "code",
   "execution_count": 6,
   "metadata": {},
   "outputs": [
    {
     "name": "stdout",
     "output_type": "stream",
     "text": [
      "<class 'pandas.core.frame.DataFrame'>\n",
      "RangeIndex: 88588 entries, 0 to 88587\n",
      "Data columns (total 11 columns):\n",
      "date              88588 non-null object\n",
      "time              88588 non-null object\n",
      "username          88588 non-null object\n",
      "wrist             88588 non-null int64\n",
      "activity          88588 non-null int64\n",
      "acceleration_x    88588 non-null float64\n",
      "acceleration_y    88588 non-null float64\n",
      "acceleration_z    88588 non-null float64\n",
      "gyro_x            88588 non-null float64\n",
      "gyro_y            88588 non-null float64\n",
      "gyro_z            88588 non-null float64\n",
      "dtypes: float64(6), int64(2), object(3)\n",
      "memory usage: 7.4+ MB\n"
     ]
    }
   ],
   "source": [
    "data.info()"
   ]
  },
  {
   "cell_type": "code",
   "execution_count": 5,
   "metadata": {},
   "outputs": [
    {
     "data": {
      "text/html": [
       "<div>\n",
       "<style scoped>\n",
       "    .dataframe tbody tr th:only-of-type {\n",
       "        vertical-align: middle;\n",
       "    }\n",
       "\n",
       "    .dataframe tbody tr th {\n",
       "        vertical-align: top;\n",
       "    }\n",
       "\n",
       "    .dataframe thead th {\n",
       "        text-align: right;\n",
       "    }\n",
       "</style>\n",
       "<table border=\"1\" class=\"dataframe\">\n",
       "  <thead>\n",
       "    <tr style=\"text-align: right;\">\n",
       "      <th></th>\n",
       "      <th>count</th>\n",
       "      <th>mean</th>\n",
       "      <th>std</th>\n",
       "      <th>min</th>\n",
       "      <th>25%</th>\n",
       "      <th>50%</th>\n",
       "      <th>75%</th>\n",
       "      <th>max</th>\n",
       "    </tr>\n",
       "  </thead>\n",
       "  <tbody>\n",
       "    <tr>\n",
       "      <th>wrist</th>\n",
       "      <td>88588.0</td>\n",
       "      <td>0.522170</td>\n",
       "      <td>0.499511</td>\n",
       "      <td>0.0000</td>\n",
       "      <td>0.000000</td>\n",
       "      <td>1.0000</td>\n",
       "      <td>1.000000</td>\n",
       "      <td>1.0000</td>\n",
       "    </tr>\n",
       "    <tr>\n",
       "      <th>activity</th>\n",
       "      <td>88588.0</td>\n",
       "      <td>0.500801</td>\n",
       "      <td>0.500002</td>\n",
       "      <td>0.0000</td>\n",
       "      <td>0.000000</td>\n",
       "      <td>1.0000</td>\n",
       "      <td>1.000000</td>\n",
       "      <td>1.0000</td>\n",
       "    </tr>\n",
       "    <tr>\n",
       "      <th>acceleration_x</th>\n",
       "      <td>88588.0</td>\n",
       "      <td>-0.074811</td>\n",
       "      <td>1.009299</td>\n",
       "      <td>-5.3505</td>\n",
       "      <td>-0.381800</td>\n",
       "      <td>-0.0595</td>\n",
       "      <td>0.355500</td>\n",
       "      <td>5.6033</td>\n",
       "    </tr>\n",
       "    <tr>\n",
       "      <th>acceleration_y</th>\n",
       "      <td>88588.0</td>\n",
       "      <td>-0.562585</td>\n",
       "      <td>0.658458</td>\n",
       "      <td>-3.2990</td>\n",
       "      <td>-1.033500</td>\n",
       "      <td>-0.7591</td>\n",
       "      <td>-0.241775</td>\n",
       "      <td>2.6680</td>\n",
       "    </tr>\n",
       "    <tr>\n",
       "      <th>acceleration_z</th>\n",
       "      <td>88588.0</td>\n",
       "      <td>-0.313956</td>\n",
       "      <td>0.486815</td>\n",
       "      <td>-3.7538</td>\n",
       "      <td>-0.376000</td>\n",
       "      <td>-0.2210</td>\n",
       "      <td>-0.085900</td>\n",
       "      <td>1.6403</td>\n",
       "    </tr>\n",
       "    <tr>\n",
       "      <th>gyro_x</th>\n",
       "      <td>88588.0</td>\n",
       "      <td>0.004160</td>\n",
       "      <td>1.253423</td>\n",
       "      <td>-4.4306</td>\n",
       "      <td>-0.920700</td>\n",
       "      <td>0.0187</td>\n",
       "      <td>0.888800</td>\n",
       "      <td>4.8742</td>\n",
       "    </tr>\n",
       "    <tr>\n",
       "      <th>gyro_y</th>\n",
       "      <td>88588.0</td>\n",
       "      <td>0.037203</td>\n",
       "      <td>1.198725</td>\n",
       "      <td>-7.4647</td>\n",
       "      <td>-0.644825</td>\n",
       "      <td>0.0393</td>\n",
       "      <td>0.733700</td>\n",
       "      <td>8.4980</td>\n",
       "    </tr>\n",
       "    <tr>\n",
       "      <th>gyro_z</th>\n",
       "      <td>88588.0</td>\n",
       "      <td>0.022327</td>\n",
       "      <td>1.914423</td>\n",
       "      <td>-9.4800</td>\n",
       "      <td>-1.345125</td>\n",
       "      <td>0.0069</td>\n",
       "      <td>1.398200</td>\n",
       "      <td>11.2662</td>\n",
       "    </tr>\n",
       "  </tbody>\n",
       "</table>\n",
       "</div>"
      ],
      "text/plain": [
       "                  count      mean       std     min       25%     50%  \\\n",
       "wrist           88588.0  0.522170  0.499511  0.0000  0.000000  1.0000   \n",
       "activity        88588.0  0.500801  0.500002  0.0000  0.000000  1.0000   \n",
       "acceleration_x  88588.0 -0.074811  1.009299 -5.3505 -0.381800 -0.0595   \n",
       "acceleration_y  88588.0 -0.562585  0.658458 -3.2990 -1.033500 -0.7591   \n",
       "acceleration_z  88588.0 -0.313956  0.486815 -3.7538 -0.376000 -0.2210   \n",
       "gyro_x          88588.0  0.004160  1.253423 -4.4306 -0.920700  0.0187   \n",
       "gyro_y          88588.0  0.037203  1.198725 -7.4647 -0.644825  0.0393   \n",
       "gyro_z          88588.0  0.022327  1.914423 -9.4800 -1.345125  0.0069   \n",
       "\n",
       "                     75%      max  \n",
       "wrist           1.000000   1.0000  \n",
       "activity        1.000000   1.0000  \n",
       "acceleration_x  0.355500   5.6033  \n",
       "acceleration_y -0.241775   2.6680  \n",
       "acceleration_z -0.085900   1.6403  \n",
       "gyro_x          0.888800   4.8742  \n",
       "gyro_y          0.733700   8.4980  \n",
       "gyro_z          1.398200  11.2662  "
      ]
     },
     "execution_count": 5,
     "metadata": {},
     "output_type": "execute_result"
    }
   ],
   "source": [
    "data.describe().transpose()"
   ]
  },
  {
   "cell_type": "code",
   "execution_count": 10,
   "metadata": {
    "collapsed": true
   },
   "outputs": [],
   "source": [
    "# Feature engineering: drop the columns- 'date', 'time', 'username'\n",
    "data = data.drop(['date', 'time', 'username'],axis=1)"
   ]
  },
  {
   "cell_type": "code",
   "execution_count": 18,
   "metadata": {},
   "outputs": [
    {
     "data": {
      "text/plain": [
       "1    44365\n",
       "0    44223\n",
       "Name: activity, dtype: int64"
      ]
     },
     "execution_count": 18,
     "metadata": {},
     "output_type": "execute_result"
    }
   ],
   "source": [
    "# Target variable:\n",
    "data['activity'].value_counts()"
   ]
  },
  {
   "cell_type": "markdown",
   "metadata": {},
   "source": [
    "### 2. Let the target variable ‘y’ be the activity and assign all the columns after it to ‘x’. "
   ]
  },
  {
   "cell_type": "code",
   "execution_count": 11,
   "metadata": {},
   "outputs": [
    {
     "name": "stdout",
     "output_type": "stream",
     "text": [
      "(70870, 7)\n",
      "(17718, 7)\n",
      "(70870,)\n",
      "(17718,)\n"
     ]
    }
   ],
   "source": [
    "x = data.drop(['activity'],axis=1)\n",
    "y = data['activity']\n",
    "\n",
    "x_train, x_test , y_train, y_test = train_test_split(x,y,train_size=0.8)\n",
    "\n",
    "print(x_train.shape)\n",
    "print(x_test.shape)\n",
    "print(y_train.shape)\n",
    "print(y_test.shape)"
   ]
  },
  {
   "cell_type": "markdown",
   "metadata": {},
   "source": [
    "### 3.Using Scikit-learn fit a Gaussian Naive Bayes model and observe the accuracy. Generate a classification report using scikit learn.\n"
   ]
  },
  {
   "cell_type": "code",
   "execution_count": 12,
   "metadata": {},
   "outputs": [
    {
     "name": "stdout",
     "output_type": "stream",
     "text": [
      "Accuracy: 0.9562027316852918\n",
      "classification report:               precision    recall  f1-score   support\n",
      "\n",
      "           0       0.93      0.99      0.96      8814\n",
      "           1       0.99      0.92      0.95      8904\n",
      "\n",
      "    accuracy                           0.96     17718\n",
      "   macro avg       0.96      0.96      0.96     17718\n",
      "weighted avg       0.96      0.96      0.96     17718\n",
      "\n",
      "confusion_matrix: [[8733   81]\n",
      " [ 695 8209]]\n"
     ]
    }
   ],
   "source": [
    "gnb = GaussianNB()\n",
    "\n",
    "gnb = gnb.fit(x_train,y_train)\n",
    "y_predict = gnb.predict(x_test)\n",
    "\n",
    "print('Accuracy:',accuracy_score(y_test,y_predict))\n",
    "print('classification report:', classification_report(y_test,y_predict))\n",
    "print('confusion_matrix:', confusion_matrix(y_test,y_predict))"
   ]
  },
  {
   "cell_type": "markdown",
   "metadata": {},
   "source": [
    "### 4.Repeat the model once using only the acceleration values as predictors and then using only the gyro values as predictors. Comment on the difference in accuracy between both the models. "
   ]
  },
  {
   "cell_type": "code",
   "execution_count": 14,
   "metadata": {},
   "outputs": [
    {
     "name": "stdout",
     "output_type": "stream",
     "text": [
      "(70870, 3)\n",
      "(17718, 3)\n",
      "(70870,)\n",
      "(17718,)\n",
      "Accuracy: 0.9559205327915115\n",
      "classification report:               precision    recall  f1-score   support\n",
      "\n",
      "           0       0.92      0.99      0.96      8849\n",
      "           1       0.99      0.92      0.95      8869\n",
      "\n",
      "    accuracy                           0.96     17718\n",
      "   macro avg       0.96      0.96      0.96     17718\n",
      "weighted avg       0.96      0.96      0.96     17718\n",
      "\n",
      "confusion_matrix: [[8799   50]\n",
      " [ 731 8138]]\n"
     ]
    }
   ],
   "source": [
    "x = data[['acceleration_x','acceleration_y','acceleration_z']]\n",
    "y = data['activity']\n",
    "\n",
    "x_train, x_test , y_train, y_test = train_test_split(x,y,train_size=0.8)\n",
    "\n",
    "print(x_train.shape)\n",
    "print(x_test.shape)\n",
    "print(y_train.shape)\n",
    "print(y_test.shape)\n",
    "         \n",
    "gnb = GaussianNB()\n",
    "\n",
    "gnb = gnb.fit(x_train,y_train)\n",
    "y_predict = gnb.predict(x_test)\n",
    "\n",
    "print('Accuracy:',accuracy_score(y_test,y_predict))\n",
    "print('classification report:', classification_report(y_test,y_predict))\n",
    "print('confusion_matrix:', confusion_matrix(y_test,y_predict))"
   ]
  },
  {
   "cell_type": "code",
   "execution_count": 15,
   "metadata": {},
   "outputs": [
    {
     "name": "stdout",
     "output_type": "stream",
     "text": [
      "(70870, 3)\n",
      "(17718, 3)\n",
      "(70870,)\n",
      "(17718,)\n",
      "Accuracy: 0.6512021672875042\n",
      "classification report:               precision    recall  f1-score   support\n",
      "\n",
      "           0       0.63      0.75      0.68      8828\n",
      "           1       0.69      0.56      0.62      8890\n",
      "\n",
      "    accuracy                           0.65     17718\n",
      "   macro avg       0.66      0.65      0.65     17718\n",
      "weighted avg       0.66      0.65      0.65     17718\n",
      "\n",
      "confusion_matrix: [[6591 2237]\n",
      " [3943 4947]]\n"
     ]
    }
   ],
   "source": [
    "x = data[['gyro_x','gyro_y','gyro_z']]\n",
    "y = data['activity']\n",
    "\n",
    "x_train, x_test , y_train, y_test = train_test_split(x,y,train_size=0.8)\n",
    "\n",
    "print(x_train.shape)\n",
    "print(x_test.shape)\n",
    "print(y_train.shape)\n",
    "print(y_test.shape)\n",
    "         \n",
    "gnb = GaussianNB()\n",
    "\n",
    "gnb = gnb.fit(x_train,y_train)\n",
    "y_predict = gnb.predict(x_test)\n",
    "\n",
    "print('Accuracy:',accuracy_score(y_test,y_predict))\n",
    "print('classification report:', classification_report(y_test,y_predict))\n",
    "print('confusion_matrix:', confusion_matrix(y_test,y_predict))"
   ]
  },
  {
   "cell_type": "code",
   "execution_count": 16,
   "metadata": {
    "collapsed": true
   },
   "outputs": [],
   "source": [
    "# From the comparision of accuracy score between both the models it is evident that the acceleration variables have significant\n",
    "# impact in the prediction of target variable activity"
   ]
  },
  {
   "cell_type": "code",
   "execution_count": null,
   "metadata": {
    "collapsed": true
   },
   "outputs": [],
   "source": []
  }
 ],
 "metadata": {
  "kernelspec": {
   "display_name": "Python 3",
   "language": "python",
   "name": "python3"
  },
  "language_info": {
   "codemirror_mode": {
    "name": "ipython",
    "version": 3
   },
   "file_extension": ".py",
   "mimetype": "text/x-python",
   "name": "python",
   "nbconvert_exporter": "python",
   "pygments_lexer": "ipython3",
   "version": "3.6.13"
  }
 },
 "nbformat": 4,
 "nbformat_minor": 2
}
