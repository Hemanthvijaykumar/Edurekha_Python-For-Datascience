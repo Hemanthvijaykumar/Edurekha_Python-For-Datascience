{
 "cells": [
  {
   "cell_type": "code",
   "execution_count": 5,
   "metadata": {
    "collapsed": true
   },
   "outputs": [],
   "source": [
    "from cryptography.fernet import Fernet\n",
    "import numpy as np"
   ]
  },
  {
   "cell_type": "code",
   "execution_count": 10,
   "metadata": {},
   "outputs": [
    {
     "name": "stdout",
     "output_type": "stream",
     "text": [
      "Enter the reference ID:Hemanth@675426$1\n",
      "Valid Reference ID\n",
      "Encrypted Reference ID: b'gAAAAABh4URsloU826cSgTPzGiqtQCmj6QWMj3RJ9oZ69PsQ_2RNlQrHFAsaR96eSZTaRL_22NM_ng7nXqxzGAFMB4KQ1oftD5h9dGdzK3uBpRi8-akEZ7M='\n",
      "Decrypted Reference ID: Hemanth@675426$1\n"
     ]
    },
    {
     "name": "stderr",
     "output_type": "stream",
     "text": [
      "C:\\Users\\YZQ8BX\\AppData\\Local\\Continuum\\Anaconda3\\lib\\site-packages\\cryptography\\hazmat\\backends\\openssl\\ciphers.py:113: UserWarning: implicit cast from 'char *' to a different pointer type: will be forbidden in the future (check that the types are as you expect; use an explicit ffi.cast() if they are correct)\n",
      "  operation,\n",
      "C:\\Users\\YZQ8BX\\AppData\\Local\\Continuum\\Anaconda3\\lib\\site-packages\\cryptography\\hazmat\\backends\\openssl\\ciphers.py:146: UserWarning: implicit cast from 'char *' to a different pointer type: will be forbidden in the future (check that the types are as you expect; use an explicit ffi.cast() if they are correct)\n",
      "  self._ctx, outbuf, outlen, inbuf, inlen\n",
      "C:\\Users\\YZQ8BX\\AppData\\Local\\Continuum\\Anaconda3\\lib\\site-packages\\cryptography\\hazmat\\backends\\openssl\\hmac.py:59: UserWarning: implicit cast from 'char *' to a different pointer type: will be forbidden in the future (check that the types are as you expect; use an explicit ffi.cast() if they are correct)\n",
      "  res = self._backend._lib.HMAC_Update(self._ctx, data_ptr, len(data))\n"
     ]
    }
   ],
   "source": [
    "ReferenceID = input('Enter the reference ID:')\n",
    "\n",
    "d =0\n",
    "p =0\n",
    "if len(ReferenceID) > 12:\n",
    "    for i in ReferenceID:\n",
    "        \n",
    "        #checking number:\n",
    "        if (i.isdigit()):\n",
    "            d+=1\n",
    "        \n",
    "        # counting the mentioned special characters\n",
    "        if(i=='@'or i=='$' or i=='_'):\n",
    "            p+=1\n",
    "\n",
    "if (d>0 and p>0):\n",
    "    print('Valid Reference ID')\n",
    "else:\n",
    "    print('Invalid Reference ID')\n",
    "    \n",
    "# Encrypting Reference ID:\n",
    "key = Fernet.generate_key()\n",
    "fernet = Fernet(key)\n",
    "Encrypt = fernet.encrypt(ReferenceID.encode())\n",
    "print('Encrypted Reference ID:', Encrypt)\n",
    "\n",
    "# Decrypting Reference ID:\n",
    "decrypt = fernet.decrypt(Encrypt).decode()\n",
    "print('Decrypted Reference ID:', decrypt)"
   ]
  },
  {
   "cell_type": "code",
   "execution_count": null,
   "metadata": {
    "collapsed": true
   },
   "outputs": [],
   "source": []
  }
 ],
 "metadata": {
  "kernelspec": {
   "display_name": "Python 3",
   "language": "python",
   "name": "python3"
  },
  "language_info": {
   "codemirror_mode": {
    "name": "ipython",
    "version": 3
   },
   "file_extension": ".py",
   "mimetype": "text/x-python",
   "name": "python",
   "nbconvert_exporter": "python",
   "pygments_lexer": "ipython3",
   "version": "3.6.13"
  }
 },
 "nbformat": 4,
 "nbformat_minor": 2
}
