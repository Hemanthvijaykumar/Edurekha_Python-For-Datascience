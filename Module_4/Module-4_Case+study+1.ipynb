{
 "cells": [
  {
   "cell_type": "markdown",
   "metadata": {},
   "source": [
    "### 1. Extract data from the given SalaryGender CSV file and store the data from each column in a separate NumPy array"
   ]
  },
  {
   "cell_type": "code",
   "execution_count": 2,
   "metadata": {
    "collapsed": true
   },
   "outputs": [],
   "source": [
    "import numpy as np\n",
    "import pandas as pd"
   ]
  },
  {
   "cell_type": "code",
   "execution_count": 2,
   "metadata": {
    "collapsed": true
   },
   "outputs": [],
   "source": [
    "data = pd.read_csv('SalaryGender.csv')"
   ]
  },
  {
   "cell_type": "code",
   "execution_count": 3,
   "metadata": {},
   "outputs": [
    {
     "data": {
      "text/html": [
       "<div>\n",
       "<style scoped>\n",
       "    .dataframe tbody tr th:only-of-type {\n",
       "        vertical-align: middle;\n",
       "    }\n",
       "\n",
       "    .dataframe tbody tr th {\n",
       "        vertical-align: top;\n",
       "    }\n",
       "\n",
       "    .dataframe thead th {\n",
       "        text-align: right;\n",
       "    }\n",
       "</style>\n",
       "<table border=\"1\" class=\"dataframe\">\n",
       "  <thead>\n",
       "    <tr style=\"text-align: right;\">\n",
       "      <th></th>\n",
       "      <th>Salary</th>\n",
       "      <th>Gender</th>\n",
       "      <th>Age</th>\n",
       "      <th>PhD</th>\n",
       "    </tr>\n",
       "  </thead>\n",
       "  <tbody>\n",
       "    <tr>\n",
       "      <th>0</th>\n",
       "      <td>140.0</td>\n",
       "      <td>1</td>\n",
       "      <td>47</td>\n",
       "      <td>1</td>\n",
       "    </tr>\n",
       "    <tr>\n",
       "      <th>1</th>\n",
       "      <td>30.0</td>\n",
       "      <td>0</td>\n",
       "      <td>65</td>\n",
       "      <td>1</td>\n",
       "    </tr>\n",
       "    <tr>\n",
       "      <th>2</th>\n",
       "      <td>35.1</td>\n",
       "      <td>0</td>\n",
       "      <td>56</td>\n",
       "      <td>0</td>\n",
       "    </tr>\n",
       "    <tr>\n",
       "      <th>3</th>\n",
       "      <td>30.0</td>\n",
       "      <td>1</td>\n",
       "      <td>23</td>\n",
       "      <td>0</td>\n",
       "    </tr>\n",
       "    <tr>\n",
       "      <th>4</th>\n",
       "      <td>80.0</td>\n",
       "      <td>0</td>\n",
       "      <td>53</td>\n",
       "      <td>1</td>\n",
       "    </tr>\n",
       "  </tbody>\n",
       "</table>\n",
       "</div>"
      ],
      "text/plain": [
       "   Salary  Gender  Age  PhD\n",
       "0   140.0       1   47    1\n",
       "1    30.0       0   65    1\n",
       "2    35.1       0   56    0\n",
       "3    30.0       1   23    0\n",
       "4    80.0       0   53    1"
      ]
     },
     "execution_count": 3,
     "metadata": {},
     "output_type": "execute_result"
    }
   ],
   "source": [
    "data.head()"
   ]
  },
  {
   "cell_type": "code",
   "execution_count": 6,
   "metadata": {
    "collapsed": true
   },
   "outputs": [],
   "source": [
    "salary = data['Salary'].to_numpy()\n",
    "Gender = data['Gender'].to_numpy()\n",
    "Age = data['Age'].to_numpy()\n",
    "PhD = data['PhD'].to_numpy()"
   ]
  },
  {
   "cell_type": "code",
   "execution_count": 5,
   "metadata": {},
   "outputs": [
    {
     "data": {
      "text/plain": [
       "array([140.  ,  30.  ,  35.1 ,  30.  ,  80.  ,  30.  ,  60.  ,  31.1 ,\n",
       "       125.  ,  51.  ,   3.  ,  46.  , 150.  ,   3.  , 130.  ,  15.  ,\n",
       "       130.  ,  84.  , 190.  ,  74.  ,  73.  ,  10.  ,  50.  ,   7.  ,\n",
       "         9.5 ,  15.2 ,  28.6 ,  20.  ,  72.  ,  81.  , 100.  ,  90.  ,\n",
       "        90.  ,  35.  ,  30.  ,  25.  ,  52.  ,   9.  ,  63.  ,  72.  ,\n",
       "        16.  ,  92.  , 106.  ,   2.5 ,   9.  ,  32.  ,  32.  ,  55.  ,\n",
       "        52.  ,  28.  ,  20.  ,  14.7 ,  22.3 ,  34.8 ,  84.  ,  19.  ,\n",
       "       160.  ,  65.  ,  55.  ,   4.6 , 102.  ,  20.  ,  62.  ,  55.  ,\n",
       "        45.6 ,  40.  ,  24.  ,  35.  ,  48.  ,  20.  ,  40.7 ,  15.  ,\n",
       "         0.25, 152.  ,  39.8 ,  12.  ,  30.  , 120.  ,   1.7 ,  36.  ,\n",
       "        96.  ,  38.  ,  90.  ,   9.  ,  25.8 ,  22.  ,  38.8 ,  72.  ,\n",
       "        89.  ,  41.  ,  89.  ,  25.  ,  52.  , 115.  ,  66.  ,  18.6 ,\n",
       "       152.  ,   1.8 ,  35.  ,   4.  ])"
      ]
     },
     "execution_count": 5,
     "metadata": {},
     "output_type": "execute_result"
    }
   ],
   "source": [
    "salary"
   ]
  },
  {
   "cell_type": "code",
   "execution_count": 7,
   "metadata": {},
   "outputs": [
    {
     "data": {
      "text/plain": [
       "array([1, 0, 0, 1, 0, 0, 1, 0, 1, 1, 1, 1, 1, 1, 1, 0, 1, 0, 1, 1, 0, 0,\n",
       "       0, 0, 0, 1, 1, 0, 0, 1, 0, 0, 0, 1, 0, 1, 0, 0, 1, 1, 1, 0, 1, 1,\n",
       "       0, 0, 0, 1, 1, 0, 0, 0, 1, 0, 0, 1, 1, 0, 0, 1, 1, 1, 0, 1, 1, 0,\n",
       "       0, 1, 0, 0, 0, 1, 0, 1, 0, 0, 1, 1, 1, 1, 1, 0, 1, 1, 0, 0, 0, 1,\n",
       "       1, 0, 1, 0, 1, 0, 0, 1, 1, 1, 0, 0], dtype=int64)"
      ]
     },
     "execution_count": 7,
     "metadata": {},
     "output_type": "execute_result"
    }
   ],
   "source": [
    "Gender"
   ]
  },
  {
   "cell_type": "code",
   "execution_count": 8,
   "metadata": {},
   "outputs": [
    {
     "data": {
      "text/plain": [
       "array([47, 65, 56, 23, 53, 27, 53, 30, 44, 63, 22, 59, 60, 28, 65, 25, 65,\n",
       "       47, 66, 45, 46, 24, 60, 63, 27, 66, 36, 30, 51, 65, 45, 52, 54, 30,\n",
       "       52, 26, 49, 22, 34, 60, 28, 58, 77, 67, 27, 48, 45, 49, 36, 65, 32,\n",
       "       49, 67, 22, 49, 43, 61, 43, 52, 51, 66, 29, 62, 56, 61, 56, 41, 24,\n",
       "       60, 43, 57, 23, 53, 71, 20, 27, 69, 58, 37, 32, 33, 32, 60, 71, 30,\n",
       "       62, 54, 42, 62, 51, 71, 29, 55, 54, 55, 26, 56, 28, 44, 24],\n",
       "      dtype=int64)"
      ]
     },
     "execution_count": 8,
     "metadata": {},
     "output_type": "execute_result"
    }
   ],
   "source": [
    "Age"
   ]
  },
  {
   "cell_type": "code",
   "execution_count": 10,
   "metadata": {},
   "outputs": [
    {
     "data": {
      "text/plain": [
       "array([1, 1, 0, 0, 1, 0, 0, 0, 1, 1, 0, 0, 1, 0, 0, 0, 0, 1, 1, 1, 0, 0,\n",
       "       0, 0, 0, 1, 1, 0, 1, 1, 1, 1, 1, 0, 0, 0, 0, 0, 1, 0, 0, 1, 1, 0,\n",
       "       0, 1, 0, 1, 0, 1, 0, 0, 0, 0, 1, 0, 1, 1, 0, 0, 1, 0, 0, 1, 0, 0,\n",
       "       0, 0, 0, 0, 0, 0, 0, 1, 0, 0, 1, 1, 0, 1, 1, 1, 0, 0, 0, 0, 0, 1,\n",
       "       0, 1, 1, 0, 1, 0, 1, 0, 1, 0, 0, 0], dtype=int64)"
      ]
     },
     "execution_count": 10,
     "metadata": {},
     "output_type": "execute_result"
    }
   ],
   "source": [
    "PhD"
   ]
  },
  {
   "cell_type": "markdown",
   "metadata": {},
   "source": [
    "### 2.  Find: 1. The number of men with a PhD 2. The number of women with a PhD\n"
   ]
  },
  {
   "cell_type": "code",
   "execution_count": 21,
   "metadata": {},
   "outputs": [
    {
     "data": {
      "text/plain": [
       "Salary    24\n",
       "Gender    24\n",
       "Age       24\n",
       "PhD       24\n",
       "dtype: int64"
      ]
     },
     "execution_count": 21,
     "metadata": {},
     "output_type": "execute_result"
    }
   ],
   "source": [
    "data[(data['Gender'] == 1) & (data['PhD'] == 1)].count()"
   ]
  },
  {
   "cell_type": "code",
   "execution_count": 22,
   "metadata": {
    "collapsed": true
   },
   "outputs": [],
   "source": [
    "# number of men with PhD = 24"
   ]
  },
  {
   "cell_type": "code",
   "execution_count": 23,
   "metadata": {},
   "outputs": [
    {
     "data": {
      "text/plain": [
       "Salary    15\n",
       "Gender    15\n",
       "Age       15\n",
       "PhD       15\n",
       "dtype: int64"
      ]
     },
     "execution_count": 23,
     "metadata": {},
     "output_type": "execute_result"
    }
   ],
   "source": [
    "data[(data['Gender'] == 0) & (data['PhD'] == 1)].count()"
   ]
  },
  {
   "cell_type": "code",
   "execution_count": null,
   "metadata": {
    "collapsed": true
   },
   "outputs": [],
   "source": [
    "# number of women with PhD = 15"
   ]
  },
  {
   "cell_type": "markdown",
   "metadata": {},
   "source": [
    "### 3. Use SalaryGender CSV file. Store the “Age” and “PhD” columns in one DataFrame and delete the data of all people who don’t have a PhD "
   ]
  },
  {
   "cell_type": "code",
   "execution_count": 26,
   "metadata": {
    "collapsed": true
   },
   "outputs": [],
   "source": [
    "data1 = data[['Age','PhD']]\n",
    "data1 = data1[data1.PhD == 1]"
   ]
  },
  {
   "cell_type": "code",
   "execution_count": 33,
   "metadata": {},
   "outputs": [
    {
     "data": {
      "text/html": [
       "<div>\n",
       "<style scoped>\n",
       "    .dataframe tbody tr th:only-of-type {\n",
       "        vertical-align: middle;\n",
       "    }\n",
       "\n",
       "    .dataframe tbody tr th {\n",
       "        vertical-align: top;\n",
       "    }\n",
       "\n",
       "    .dataframe thead th {\n",
       "        text-align: right;\n",
       "    }\n",
       "</style>\n",
       "<table border=\"1\" class=\"dataframe\">\n",
       "  <thead>\n",
       "    <tr style=\"text-align: right;\">\n",
       "      <th></th>\n",
       "      <th>Age</th>\n",
       "      <th>PhD</th>\n",
       "    </tr>\n",
       "  </thead>\n",
       "  <tbody>\n",
       "    <tr>\n",
       "      <th>0</th>\n",
       "      <td>47</td>\n",
       "      <td>1</td>\n",
       "    </tr>\n",
       "    <tr>\n",
       "      <th>1</th>\n",
       "      <td>65</td>\n",
       "      <td>1</td>\n",
       "    </tr>\n",
       "    <tr>\n",
       "      <th>4</th>\n",
       "      <td>53</td>\n",
       "      <td>1</td>\n",
       "    </tr>\n",
       "    <tr>\n",
       "      <th>8</th>\n",
       "      <td>44</td>\n",
       "      <td>1</td>\n",
       "    </tr>\n",
       "    <tr>\n",
       "      <th>9</th>\n",
       "      <td>63</td>\n",
       "      <td>1</td>\n",
       "    </tr>\n",
       "    <tr>\n",
       "      <th>12</th>\n",
       "      <td>60</td>\n",
       "      <td>1</td>\n",
       "    </tr>\n",
       "    <tr>\n",
       "      <th>17</th>\n",
       "      <td>47</td>\n",
       "      <td>1</td>\n",
       "    </tr>\n",
       "    <tr>\n",
       "      <th>18</th>\n",
       "      <td>66</td>\n",
       "      <td>1</td>\n",
       "    </tr>\n",
       "    <tr>\n",
       "      <th>19</th>\n",
       "      <td>45</td>\n",
       "      <td>1</td>\n",
       "    </tr>\n",
       "    <tr>\n",
       "      <th>25</th>\n",
       "      <td>66</td>\n",
       "      <td>1</td>\n",
       "    </tr>\n",
       "    <tr>\n",
       "      <th>26</th>\n",
       "      <td>36</td>\n",
       "      <td>1</td>\n",
       "    </tr>\n",
       "    <tr>\n",
       "      <th>28</th>\n",
       "      <td>51</td>\n",
       "      <td>1</td>\n",
       "    </tr>\n",
       "    <tr>\n",
       "      <th>29</th>\n",
       "      <td>65</td>\n",
       "      <td>1</td>\n",
       "    </tr>\n",
       "    <tr>\n",
       "      <th>30</th>\n",
       "      <td>45</td>\n",
       "      <td>1</td>\n",
       "    </tr>\n",
       "    <tr>\n",
       "      <th>31</th>\n",
       "      <td>52</td>\n",
       "      <td>1</td>\n",
       "    </tr>\n",
       "    <tr>\n",
       "      <th>32</th>\n",
       "      <td>54</td>\n",
       "      <td>1</td>\n",
       "    </tr>\n",
       "    <tr>\n",
       "      <th>38</th>\n",
       "      <td>34</td>\n",
       "      <td>1</td>\n",
       "    </tr>\n",
       "    <tr>\n",
       "      <th>41</th>\n",
       "      <td>58</td>\n",
       "      <td>1</td>\n",
       "    </tr>\n",
       "    <tr>\n",
       "      <th>42</th>\n",
       "      <td>77</td>\n",
       "      <td>1</td>\n",
       "    </tr>\n",
       "    <tr>\n",
       "      <th>45</th>\n",
       "      <td>48</td>\n",
       "      <td>1</td>\n",
       "    </tr>\n",
       "    <tr>\n",
       "      <th>47</th>\n",
       "      <td>49</td>\n",
       "      <td>1</td>\n",
       "    </tr>\n",
       "    <tr>\n",
       "      <th>49</th>\n",
       "      <td>65</td>\n",
       "      <td>1</td>\n",
       "    </tr>\n",
       "    <tr>\n",
       "      <th>54</th>\n",
       "      <td>49</td>\n",
       "      <td>1</td>\n",
       "    </tr>\n",
       "    <tr>\n",
       "      <th>56</th>\n",
       "      <td>61</td>\n",
       "      <td>1</td>\n",
       "    </tr>\n",
       "    <tr>\n",
       "      <th>57</th>\n",
       "      <td>43</td>\n",
       "      <td>1</td>\n",
       "    </tr>\n",
       "    <tr>\n",
       "      <th>60</th>\n",
       "      <td>66</td>\n",
       "      <td>1</td>\n",
       "    </tr>\n",
       "    <tr>\n",
       "      <th>63</th>\n",
       "      <td>56</td>\n",
       "      <td>1</td>\n",
       "    </tr>\n",
       "    <tr>\n",
       "      <th>73</th>\n",
       "      <td>71</td>\n",
       "      <td>1</td>\n",
       "    </tr>\n",
       "    <tr>\n",
       "      <th>76</th>\n",
       "      <td>69</td>\n",
       "      <td>1</td>\n",
       "    </tr>\n",
       "    <tr>\n",
       "      <th>77</th>\n",
       "      <td>58</td>\n",
       "      <td>1</td>\n",
       "    </tr>\n",
       "    <tr>\n",
       "      <th>79</th>\n",
       "      <td>32</td>\n",
       "      <td>1</td>\n",
       "    </tr>\n",
       "    <tr>\n",
       "      <th>80</th>\n",
       "      <td>33</td>\n",
       "      <td>1</td>\n",
       "    </tr>\n",
       "    <tr>\n",
       "      <th>81</th>\n",
       "      <td>32</td>\n",
       "      <td>1</td>\n",
       "    </tr>\n",
       "    <tr>\n",
       "      <th>87</th>\n",
       "      <td>42</td>\n",
       "      <td>1</td>\n",
       "    </tr>\n",
       "    <tr>\n",
       "      <th>89</th>\n",
       "      <td>51</td>\n",
       "      <td>1</td>\n",
       "    </tr>\n",
       "    <tr>\n",
       "      <th>90</th>\n",
       "      <td>71</td>\n",
       "      <td>1</td>\n",
       "    </tr>\n",
       "    <tr>\n",
       "      <th>92</th>\n",
       "      <td>55</td>\n",
       "      <td>1</td>\n",
       "    </tr>\n",
       "    <tr>\n",
       "      <th>94</th>\n",
       "      <td>55</td>\n",
       "      <td>1</td>\n",
       "    </tr>\n",
       "    <tr>\n",
       "      <th>96</th>\n",
       "      <td>56</td>\n",
       "      <td>1</td>\n",
       "    </tr>\n",
       "  </tbody>\n",
       "</table>\n",
       "</div>"
      ],
      "text/plain": [
       "    Age  PhD\n",
       "0    47    1\n",
       "1    65    1\n",
       "4    53    1\n",
       "8    44    1\n",
       "9    63    1\n",
       "12   60    1\n",
       "17   47    1\n",
       "18   66    1\n",
       "19   45    1\n",
       "25   66    1\n",
       "26   36    1\n",
       "28   51    1\n",
       "29   65    1\n",
       "30   45    1\n",
       "31   52    1\n",
       "32   54    1\n",
       "38   34    1\n",
       "41   58    1\n",
       "42   77    1\n",
       "45   48    1\n",
       "47   49    1\n",
       "49   65    1\n",
       "54   49    1\n",
       "56   61    1\n",
       "57   43    1\n",
       "60   66    1\n",
       "63   56    1\n",
       "73   71    1\n",
       "76   69    1\n",
       "77   58    1\n",
       "79   32    1\n",
       "80   33    1\n",
       "81   32    1\n",
       "87   42    1\n",
       "89   51    1\n",
       "90   71    1\n",
       "92   55    1\n",
       "94   55    1\n",
       "96   56    1"
      ]
     },
     "execution_count": 33,
     "metadata": {},
     "output_type": "execute_result"
    }
   ],
   "source": [
    "data1"
   ]
  },
  {
   "cell_type": "markdown",
   "metadata": {},
   "source": [
    "### 4. Calculate the total number of people who have a PhD degree from SalaryGender CSV file. "
   ]
  },
  {
   "cell_type": "code",
   "execution_count": 36,
   "metadata": {},
   "outputs": [
    {
     "data": {
      "text/plain": [
       "Salary    39\n",
       "Gender    39\n",
       "Age       39\n",
       "PhD       39\n",
       "dtype: int64"
      ]
     },
     "execution_count": 36,
     "metadata": {},
     "output_type": "execute_result"
    }
   ],
   "source": [
    "data[data.PhD == 1].count()"
   ]
  },
  {
   "cell_type": "code",
   "execution_count": 37,
   "metadata": {
    "collapsed": true
   },
   "outputs": [],
   "source": [
    "# 39 people have PhD degree from salary dataset."
   ]
  },
  {
   "cell_type": "code",
   "execution_count": 38,
   "metadata": {},
   "outputs": [
    {
     "data": {
      "text/plain": [
       "'\\n5. How do you Count The Number Of Times Each Value Appears In An Array Of\\nIntegers?\\n[0, 5, 4, 0, 4, 4, 3, 0, 0, 5, 2, 1, 1, 9]\\nAnswer should be array([4, 2, 1, 1, 3, 2, 0, 0, 0, 1]) which means 0 comes 4 times,\\n1 comes 2 times, 2 comes 1 time, 3 comes 1 time and so on. \\n'"
      ]
     },
     "execution_count": 38,
     "metadata": {},
     "output_type": "execute_result"
    }
   ],
   "source": [
    "'''\n",
    "5. How do you Count The Number Of Times Each Value Appears In An Array Of\n",
    "Integers?\n",
    "[0, 5, 4, 0, 4, 4, 3, 0, 0, 5, 2, 1, 1, 9]\n",
    "Answer should be array([4, 2, 1, 1, 3, 2, 0, 0, 0, 1]) which means 0 comes 4 times,\n",
    "1 comes 2 times, 2 comes 1 time, 3 comes 1 time and so on. \n",
    "'''\n"
   ]
  },
  {
   "cell_type": "code",
   "execution_count": 39,
   "metadata": {
    "collapsed": true
   },
   "outputs": [],
   "source": [
    "numbers = [0, 5, 4, 0, 4, 4, 3, 0, 0, 5, 2, 1, 1, 9]"
   ]
  },
  {
   "cell_type": "code",
   "execution_count": 44,
   "metadata": {
    "collapsed": true
   },
   "outputs": [],
   "source": [
    "import collections\n",
    "\n",
    "def countFrequency(arr):\n",
    "    \n",
    "    return collections.Counter(arr)"
   ]
  },
  {
   "cell_type": "code",
   "execution_count": 46,
   "metadata": {
    "collapsed": true
   },
   "outputs": [],
   "source": [
    "counts = countFrequency(numbers)"
   ]
  },
  {
   "cell_type": "code",
   "execution_count": 47,
   "metadata": {},
   "outputs": [
    {
     "data": {
      "text/plain": [
       "Counter({0: 4, 1: 2, 2: 1, 3: 1, 4: 3, 5: 2, 9: 1})"
      ]
     },
     "execution_count": 47,
     "metadata": {},
     "output_type": "execute_result"
    }
   ],
   "source": [
    "counts"
   ]
  },
  {
   "cell_type": "markdown",
   "metadata": {},
   "source": [
    "### 6. Create a numpy array [[0, 1, 2], [ 3, 4, 5], [ 6, 7, 8],[ 9, 10, 11]]) and filter the elements greater than 5. "
   ]
  },
  {
   "cell_type": "code",
   "execution_count": 8,
   "metadata": {},
   "outputs": [
    {
     "data": {
      "text/plain": [
       "array([[ 0,  1,  2],\n",
       "       [ 3,  4,  5],\n",
       "       [ 6,  7,  8],\n",
       "       [ 9, 10, 11]])"
      ]
     },
     "execution_count": 8,
     "metadata": {},
     "output_type": "execute_result"
    }
   ],
   "source": [
    "array = np.array([[0, 1, 2], [ 3, 4, 5], [ 6, 7, 8],[ 9, 10, 11]])\n",
    "array"
   ]
  },
  {
   "cell_type": "code",
   "execution_count": 4,
   "metadata": {
    "collapsed": true
   },
   "outputs": [],
   "source": [
    "filtered_array = array[array > 5]"
   ]
  },
  {
   "cell_type": "code",
   "execution_count": 10,
   "metadata": {},
   "outputs": [
    {
     "data": {
      "text/plain": [
       "array([ 6,  7,  8,  9, 10, 11])"
      ]
     },
     "execution_count": 10,
     "metadata": {},
     "output_type": "execute_result"
    }
   ],
   "source": [
    "filtered_array"
   ]
  },
  {
   "cell_type": "markdown",
   "metadata": {},
   "source": [
    "### 7. Create a numpy array having NaN (Not a Number) and print it. array([ nan, 1., 2., nan, 3., 4., 5.]) Print the same array omitting all elements which are nan"
   ]
  },
  {
   "cell_type": "code",
   "execution_count": 16,
   "metadata": {},
   "outputs": [
    {
     "data": {
      "text/plain": [
       "array([nan,  1.,  2., nan,  3.,  4.,  5.])"
      ]
     },
     "execution_count": 16,
     "metadata": {},
     "output_type": "execute_result"
    }
   ],
   "source": [
    "array1 = np.array([np.nan,1,2,np.nan,3,4,5])\n",
    "array1"
   ]
  },
  {
   "cell_type": "code",
   "execution_count": 19,
   "metadata": {},
   "outputs": [
    {
     "data": {
      "text/plain": [
       "array([1., 2., 3., 4., 5.])"
      ]
     },
     "execution_count": 19,
     "metadata": {},
     "output_type": "execute_result"
    }
   ],
   "source": [
    "array1[~np.isnan(array1)]"
   ]
  },
  {
   "cell_type": "markdown",
   "metadata": {},
   "source": [
    "### 8. Create a 10x10 array with random values and find the minimum and maximum values. "
   ]
  },
  {
   "cell_type": "code",
   "execution_count": 26,
   "metadata": {},
   "outputs": [
    {
     "data": {
      "text/plain": [
       "array([[0.43350571, 0.87201676, 0.95748669, 0.49358608, 0.77780096,\n",
       "        0.975963  , 0.71241728, 0.26785058, 0.62462772, 0.04234851],\n",
       "       [0.76126291, 0.54928848, 0.95853793, 0.12615963, 0.30915221,\n",
       "        0.31341816, 0.81471565, 0.84253767, 0.74402648, 0.47871887],\n",
       "       [0.35490106, 0.45655555, 0.25303889, 0.45014288, 0.11995511,\n",
       "        0.99920678, 0.14549984, 0.64596481, 0.08391564, 0.14502743],\n",
       "       [0.79477034, 0.44772267, 0.95445173, 0.5658542 , 0.61491089,\n",
       "        0.54699608, 0.94970644, 0.35691519, 0.18788466, 0.64889023],\n",
       "       [0.71556588, 0.48074417, 0.11610436, 0.53284561, 0.57890686,\n",
       "        0.17700053, 0.24512078, 0.3988443 , 0.67212633, 0.32096639],\n",
       "       [0.80412726, 0.8804651 , 0.94218179, 0.06731779, 0.03867564,\n",
       "        0.63140141, 0.45664848, 0.38386101, 0.62527794, 0.43721597],\n",
       "       [0.27717517, 0.39856896, 0.80244008, 0.28839423, 0.54052061,\n",
       "        0.45451409, 0.39202263, 0.46129573, 0.22785276, 0.42397118],\n",
       "       [0.1486905 , 0.19634735, 0.66365207, 0.63979754, 0.62286143,\n",
       "        0.21753372, 0.52382282, 0.60198225, 0.94573431, 0.65269445],\n",
       "       [0.26025251, 0.07552375, 0.92448618, 0.41102478, 0.8767176 ,\n",
       "        0.74752569, 0.96906661, 0.338885  , 0.49775443, 0.89398949],\n",
       "       [0.34339191, 0.04831237, 0.78847668, 0.86561608, 0.34028963,\n",
       "        0.92502893, 0.07329955, 0.91405582, 0.24753981, 0.46915722]])"
      ]
     },
     "execution_count": 26,
     "metadata": {},
     "output_type": "execute_result"
    }
   ],
   "source": [
    "array2 = np.random.random((10,10))\n",
    "array2"
   ]
  },
  {
   "cell_type": "code",
   "execution_count": 29,
   "metadata": {},
   "outputs": [
    {
     "name": "stdout",
     "output_type": "stream",
     "text": [
      "0.9992067830493081\n",
      "0.03867563924946693\n"
     ]
    }
   ],
   "source": [
    "max_value = array2.max()\n",
    "print(max_value)\n",
    "\n",
    "min_value = array2.min()\n",
    "print(min_value)"
   ]
  },
  {
   "cell_type": "markdown",
   "metadata": {},
   "source": [
    "### 9. Create a random vector of size 30 and find the mean value. "
   ]
  },
  {
   "cell_type": "code",
   "execution_count": 30,
   "metadata": {},
   "outputs": [
    {
     "data": {
      "text/plain": [
       "array([0.22209027, 0.2461874 , 0.21045403, 0.71378484, 0.00641593,\n",
       "       0.13990046, 0.84958742, 0.15335804, 0.51160854, 0.66216817,\n",
       "       0.78008946, 0.67213097, 0.12817145, 0.59119048, 0.25648468,\n",
       "       0.54176398, 0.36141655, 0.28135469, 0.25860956, 0.53268242,\n",
       "       0.40325446, 0.6039529 , 0.54213029, 0.15904572, 0.60484897,\n",
       "       0.99819692, 0.77229664, 0.06752834, 0.92315403, 0.17501608])"
      ]
     },
     "execution_count": 30,
     "metadata": {},
     "output_type": "execute_result"
    }
   ],
   "source": [
    "vector = np.random.random(30)\n",
    "vector"
   ]
  },
  {
   "cell_type": "code",
   "execution_count": 31,
   "metadata": {},
   "outputs": [
    {
     "data": {
      "text/plain": [
       "0.4456291233484764"
      ]
     },
     "execution_count": 31,
     "metadata": {},
     "output_type": "execute_result"
    }
   ],
   "source": [
    "vector.mean()"
   ]
  },
  {
   "cell_type": "markdown",
   "metadata": {},
   "source": [
    "### 10. Create numpy array having elements 0 to 10 And negate all the elements between 3 and 9 "
   ]
  },
  {
   "cell_type": "code",
   "execution_count": 45,
   "metadata": {},
   "outputs": [
    {
     "name": "stdout",
     "output_type": "stream",
     "text": [
      "[ 0  1  2 -3 -4 -5 -6 -7 -8  9 10]\n"
     ]
    }
   ],
   "source": [
    "arr = np.arange(11)\n",
    "\n",
    "arr[3:9] = np.multiply(arr[3:9],-1)\n",
    "\n",
    "print(arr)"
   ]
  },
  {
   "cell_type": "markdown",
   "metadata": {},
   "source": [
    "### 11. Create a random array of 3 rows and 3 columns and sort it according to 1st column, 2nd column or 3rd column. "
   ]
  },
  {
   "cell_type": "code",
   "execution_count": 47,
   "metadata": {},
   "outputs": [
    {
     "data": {
      "text/plain": [
       "array([[0.70532564, 0.59950564, 0.35542276],\n",
       "       [0.75922598, 0.2571477 , 0.75197295],\n",
       "       [0.19148861, 0.43449732, 0.90504723]])"
      ]
     },
     "execution_count": 47,
     "metadata": {},
     "output_type": "execute_result"
    }
   ],
   "source": [
    "array = np.random.random((3,3))\n",
    "array"
   ]
  },
  {
   "cell_type": "code",
   "execution_count": 54,
   "metadata": {},
   "outputs": [
    {
     "data": {
      "text/plain": [
       "array([[0.19148861, 0.43449732, 0.90504723],\n",
       "       [0.35542276, 0.59950564, 0.70532564],\n",
       "       [0.2571477 , 0.75197295, 0.75922598]])"
      ]
     },
     "execution_count": 54,
     "metadata": {},
     "output_type": "execute_result"
    }
   ],
   "source": [
    "sortedArr = array[array[:,1].argsort()]\n",
    "sortedArr"
   ]
  },
  {
   "cell_type": "markdown",
   "metadata": {},
   "source": [
    "### 12. Create a four dimensions array get sum over the last two axis at once. "
   ]
  },
  {
   "cell_type": "code",
   "execution_count": 55,
   "metadata": {},
   "outputs": [
    {
     "data": {
      "text/plain": [
       "array([[0.02219026, 0.17173664, 0.70776451, 0.07947772],\n",
       "       [0.72214292, 0.84313712, 0.67736265, 0.21347549],\n",
       "       [0.64242024, 0.21474315, 0.37044754, 0.18800753],\n",
       "       [0.2285788 , 0.07705595, 0.30673516, 0.17949521]])"
      ]
     },
     "execution_count": 55,
     "metadata": {},
     "output_type": "execute_result"
    }
   ],
   "source": [
    "array = np.random.random((4,4))\n",
    "array"
   ]
  },
  {
   "cell_type": "code",
   "execution_count": 59,
   "metadata": {},
   "outputs": [
    {
     "data": {
      "text/plain": [
       "array([[0.98116913],\n",
       "       [2.45611818],\n",
       "       [1.41561846],\n",
       "       [0.79186512]])"
      ]
     },
     "execution_count": 59,
     "metadata": {},
     "output_type": "execute_result"
    }
   ],
   "source": [
    "np.sum(array,axis=1,keepdims=True)"
   ]
  },
  {
   "cell_type": "code",
   "execution_count": 60,
   "metadata": {},
   "outputs": [
    {
     "data": {
      "text/plain": [
       "array([[1.61533222, 1.30667286, 2.06230986, 0.66045595]])"
      ]
     },
     "execution_count": 60,
     "metadata": {},
     "output_type": "execute_result"
    }
   ],
   "source": [
    "np.sum(array,axis=0,keepdims=True)"
   ]
  },
  {
   "cell_type": "markdown",
   "metadata": {},
   "source": [
    "### 13. Create a random array and swap two rows of an array. "
   ]
  },
  {
   "cell_type": "code",
   "execution_count": 64,
   "metadata": {},
   "outputs": [
    {
     "data": {
      "text/plain": [
       "array([[4, 3, 1],\n",
       "       [5, 7, 0],\n",
       "       [9, 9, 3],\n",
       "       [8, 2, 4]])"
      ]
     },
     "execution_count": 64,
     "metadata": {},
     "output_type": "execute_result"
    }
   ],
   "source": [
    "a = np.array([[4,3,1], [5,7,0], [9,9,3], [8,2,4]])\n",
    "a"
   ]
  },
  {
   "cell_type": "code",
   "execution_count": 65,
   "metadata": {},
   "outputs": [
    {
     "data": {
      "text/plain": [
       "array([[9, 9, 3],\n",
       "       [5, 7, 0],\n",
       "       [4, 3, 1],\n",
       "       [8, 2, 4]])"
      ]
     },
     "execution_count": 65,
     "metadata": {},
     "output_type": "execute_result"
    }
   ],
   "source": [
    "# Swapping first and third rows:\n",
    "a[[0, 2]] = a[[2, 0]]\n",
    "a"
   ]
  },
  {
   "cell_type": "markdown",
   "metadata": {},
   "source": [
    "### 14. Create a random matrix and Compute a matrix rank."
   ]
  },
  {
   "cell_type": "code",
   "execution_count": 66,
   "metadata": {},
   "outputs": [
    {
     "name": "stdout",
     "output_type": "stream",
     "text": [
      "Matrix\n",
      "[1 2 1]\n",
      "[3 4 7]\n",
      "[3 6 3]\n"
     ]
    }
   ],
   "source": [
    "my_matrix = np.array([[1, 2, 1], [3, 4, 7], [3, 6, 3]])\n",
    "print(\"Matrix\")\n",
    "for row in my_matrix:\n",
    "    print(row)"
   ]
  },
  {
   "cell_type": "code",
   "execution_count": 67,
   "metadata": {},
   "outputs": [
    {
     "name": "stdout",
     "output_type": "stream",
     "text": [
      "Rank of the given Matrix is :  2\n"
     ]
    }
   ],
   "source": [
    "rank = np.linalg.matrix_rank(my_matrix)\n",
    "print(\"Rank of the given Matrix is : \",rank)"
   ]
  },
  {
   "cell_type": "markdown",
   "metadata": {},
   "source": [
    "### 15. "
   ]
  },
  {
   "cell_type": "code",
   "execution_count": 103,
   "metadata": {
    "collapsed": true
   },
   "outputs": [],
   "source": [
    "import numpy as np\n",
    "import pandas as pd\n",
    "import matplotlib.pyplot as plt\n",
    "import seaborn as sns"
   ]
  },
  {
   "cell_type": "code",
   "execution_count": 69,
   "metadata": {
    "collapsed": true
   },
   "outputs": [],
   "source": [
    "data = pd.read_csv('middle_tn_schools.csv')"
   ]
  },
  {
   "cell_type": "code",
   "execution_count": 70,
   "metadata": {},
   "outputs": [
    {
     "data": {
      "text/html": [
       "<div>\n",
       "<style scoped>\n",
       "    .dataframe tbody tr th:only-of-type {\n",
       "        vertical-align: middle;\n",
       "    }\n",
       "\n",
       "    .dataframe tbody tr th {\n",
       "        vertical-align: top;\n",
       "    }\n",
       "\n",
       "    .dataframe thead th {\n",
       "        text-align: right;\n",
       "    }\n",
       "</style>\n",
       "<table border=\"1\" class=\"dataframe\">\n",
       "  <thead>\n",
       "    <tr style=\"text-align: right;\">\n",
       "      <th></th>\n",
       "      <th>name</th>\n",
       "      <th>school_rating</th>\n",
       "      <th>size</th>\n",
       "      <th>reduced_lunch</th>\n",
       "      <th>state_percentile_16</th>\n",
       "      <th>state_percentile_15</th>\n",
       "      <th>stu_teach_ratio</th>\n",
       "      <th>school_type</th>\n",
       "      <th>avg_score_15</th>\n",
       "      <th>avg_score_16</th>\n",
       "      <th>full_time_teachers</th>\n",
       "      <th>percent_black</th>\n",
       "      <th>percent_white</th>\n",
       "      <th>percent_asian</th>\n",
       "      <th>percent_hispanic</th>\n",
       "    </tr>\n",
       "  </thead>\n",
       "  <tbody>\n",
       "    <tr>\n",
       "      <th>0</th>\n",
       "      <td>Allendale Elementary School</td>\n",
       "      <td>5.0</td>\n",
       "      <td>851.0</td>\n",
       "      <td>10.0</td>\n",
       "      <td>90.2</td>\n",
       "      <td>95.8</td>\n",
       "      <td>15.7</td>\n",
       "      <td>Public</td>\n",
       "      <td>89.4</td>\n",
       "      <td>85.2</td>\n",
       "      <td>54.0</td>\n",
       "      <td>2.9</td>\n",
       "      <td>85.5</td>\n",
       "      <td>1.6</td>\n",
       "      <td>5.6</td>\n",
       "    </tr>\n",
       "    <tr>\n",
       "      <th>1</th>\n",
       "      <td>Anderson Elementary</td>\n",
       "      <td>2.0</td>\n",
       "      <td>412.0</td>\n",
       "      <td>71.0</td>\n",
       "      <td>32.8</td>\n",
       "      <td>37.3</td>\n",
       "      <td>12.8</td>\n",
       "      <td>Public</td>\n",
       "      <td>43.0</td>\n",
       "      <td>38.3</td>\n",
       "      <td>32.0</td>\n",
       "      <td>3.9</td>\n",
       "      <td>86.7</td>\n",
       "      <td>1.0</td>\n",
       "      <td>4.9</td>\n",
       "    </tr>\n",
       "    <tr>\n",
       "      <th>2</th>\n",
       "      <td>Avoca Elementary</td>\n",
       "      <td>4.0</td>\n",
       "      <td>482.0</td>\n",
       "      <td>43.0</td>\n",
       "      <td>78.4</td>\n",
       "      <td>83.6</td>\n",
       "      <td>16.6</td>\n",
       "      <td>Public</td>\n",
       "      <td>75.7</td>\n",
       "      <td>73.0</td>\n",
       "      <td>29.0</td>\n",
       "      <td>1.0</td>\n",
       "      <td>91.5</td>\n",
       "      <td>1.2</td>\n",
       "      <td>4.4</td>\n",
       "    </tr>\n",
       "    <tr>\n",
       "      <th>3</th>\n",
       "      <td>Bailey Middle</td>\n",
       "      <td>0.0</td>\n",
       "      <td>394.0</td>\n",
       "      <td>91.0</td>\n",
       "      <td>1.6</td>\n",
       "      <td>1.0</td>\n",
       "      <td>13.1</td>\n",
       "      <td>Public Magnet</td>\n",
       "      <td>2.1</td>\n",
       "      <td>4.4</td>\n",
       "      <td>30.0</td>\n",
       "      <td>80.7</td>\n",
       "      <td>11.7</td>\n",
       "      <td>2.3</td>\n",
       "      <td>4.3</td>\n",
       "    </tr>\n",
       "    <tr>\n",
       "      <th>4</th>\n",
       "      <td>Barfield Elementary</td>\n",
       "      <td>4.0</td>\n",
       "      <td>948.0</td>\n",
       "      <td>26.0</td>\n",
       "      <td>85.3</td>\n",
       "      <td>89.2</td>\n",
       "      <td>14.8</td>\n",
       "      <td>Public</td>\n",
       "      <td>81.3</td>\n",
       "      <td>79.6</td>\n",
       "      <td>64.0</td>\n",
       "      <td>11.8</td>\n",
       "      <td>71.2</td>\n",
       "      <td>7.1</td>\n",
       "      <td>6.0</td>\n",
       "    </tr>\n",
       "  </tbody>\n",
       "</table>\n",
       "</div>"
      ],
      "text/plain": [
       "                          name  school_rating   size  reduced_lunch  \\\n",
       "0  Allendale Elementary School            5.0  851.0           10.0   \n",
       "1          Anderson Elementary            2.0  412.0           71.0   \n",
       "2             Avoca Elementary            4.0  482.0           43.0   \n",
       "3                Bailey Middle            0.0  394.0           91.0   \n",
       "4          Barfield Elementary            4.0  948.0           26.0   \n",
       "\n",
       "   state_percentile_16  state_percentile_15  stu_teach_ratio    school_type  \\\n",
       "0                 90.2                 95.8             15.7         Public   \n",
       "1                 32.8                 37.3             12.8         Public   \n",
       "2                 78.4                 83.6             16.6         Public   \n",
       "3                  1.6                  1.0             13.1  Public Magnet   \n",
       "4                 85.3                 89.2             14.8         Public   \n",
       "\n",
       "   avg_score_15  avg_score_16  full_time_teachers  percent_black  \\\n",
       "0          89.4          85.2                54.0            2.9   \n",
       "1          43.0          38.3                32.0            3.9   \n",
       "2          75.7          73.0                29.0            1.0   \n",
       "3           2.1           4.4                30.0           80.7   \n",
       "4          81.3          79.6                64.0           11.8   \n",
       "\n",
       "   percent_white  percent_asian  percent_hispanic  \n",
       "0           85.5            1.6               5.6  \n",
       "1           86.7            1.0               4.9  \n",
       "2           91.5            1.2               4.4  \n",
       "3           11.7            2.3               4.3  \n",
       "4           71.2            7.1               6.0  "
      ]
     },
     "execution_count": 70,
     "metadata": {},
     "output_type": "execute_result"
    }
   ],
   "source": [
    "data.head()"
   ]
  },
  {
   "cell_type": "code",
   "execution_count": 71,
   "metadata": {},
   "outputs": [
    {
     "data": {
      "text/plain": [
       "(347, 15)"
      ]
     },
     "execution_count": 71,
     "metadata": {},
     "output_type": "execute_result"
    }
   ],
   "source": [
    "data.shape"
   ]
  },
  {
   "cell_type": "code",
   "execution_count": 95,
   "metadata": {
    "collapsed": true
   },
   "outputs": [],
   "source": [
    "# Describe:"
   ]
  },
  {
   "cell_type": "code",
   "execution_count": 73,
   "metadata": {},
   "outputs": [
    {
     "data": {
      "text/html": [
       "<div>\n",
       "<style scoped>\n",
       "    .dataframe tbody tr th:only-of-type {\n",
       "        vertical-align: middle;\n",
       "    }\n",
       "\n",
       "    .dataframe tbody tr th {\n",
       "        vertical-align: top;\n",
       "    }\n",
       "\n",
       "    .dataframe thead th {\n",
       "        text-align: right;\n",
       "    }\n",
       "</style>\n",
       "<table border=\"1\" class=\"dataframe\">\n",
       "  <thead>\n",
       "    <tr style=\"text-align: right;\">\n",
       "      <th></th>\n",
       "      <th>count</th>\n",
       "      <th>mean</th>\n",
       "      <th>std</th>\n",
       "      <th>min</th>\n",
       "      <th>25%</th>\n",
       "      <th>50%</th>\n",
       "      <th>75%</th>\n",
       "      <th>max</th>\n",
       "    </tr>\n",
       "  </thead>\n",
       "  <tbody>\n",
       "    <tr>\n",
       "      <th>school_rating</th>\n",
       "      <td>347.0</td>\n",
       "      <td>2.968300</td>\n",
       "      <td>1.690377</td>\n",
       "      <td>0.0</td>\n",
       "      <td>2.00</td>\n",
       "      <td>3.0</td>\n",
       "      <td>4.00</td>\n",
       "      <td>5.0</td>\n",
       "    </tr>\n",
       "    <tr>\n",
       "      <th>size</th>\n",
       "      <td>347.0</td>\n",
       "      <td>699.472622</td>\n",
       "      <td>400.598636</td>\n",
       "      <td>53.0</td>\n",
       "      <td>420.50</td>\n",
       "      <td>595.0</td>\n",
       "      <td>851.00</td>\n",
       "      <td>2314.0</td>\n",
       "    </tr>\n",
       "    <tr>\n",
       "      <th>reduced_lunch</th>\n",
       "      <td>347.0</td>\n",
       "      <td>50.279539</td>\n",
       "      <td>25.480236</td>\n",
       "      <td>2.0</td>\n",
       "      <td>30.00</td>\n",
       "      <td>51.0</td>\n",
       "      <td>71.50</td>\n",
       "      <td>98.0</td>\n",
       "    </tr>\n",
       "    <tr>\n",
       "      <th>state_percentile_16</th>\n",
       "      <td>347.0</td>\n",
       "      <td>58.801729</td>\n",
       "      <td>32.540747</td>\n",
       "      <td>0.2</td>\n",
       "      <td>30.95</td>\n",
       "      <td>66.4</td>\n",
       "      <td>88.00</td>\n",
       "      <td>99.8</td>\n",
       "    </tr>\n",
       "    <tr>\n",
       "      <th>state_percentile_15</th>\n",
       "      <td>341.0</td>\n",
       "      <td>58.249267</td>\n",
       "      <td>32.702630</td>\n",
       "      <td>0.6</td>\n",
       "      <td>27.10</td>\n",
       "      <td>65.8</td>\n",
       "      <td>88.60</td>\n",
       "      <td>99.8</td>\n",
       "    </tr>\n",
       "    <tr>\n",
       "      <th>stu_teach_ratio</th>\n",
       "      <td>347.0</td>\n",
       "      <td>15.461671</td>\n",
       "      <td>5.725170</td>\n",
       "      <td>4.7</td>\n",
       "      <td>13.70</td>\n",
       "      <td>15.0</td>\n",
       "      <td>16.70</td>\n",
       "      <td>111.0</td>\n",
       "    </tr>\n",
       "    <tr>\n",
       "      <th>avg_score_15</th>\n",
       "      <td>341.0</td>\n",
       "      <td>57.004692</td>\n",
       "      <td>26.696450</td>\n",
       "      <td>1.5</td>\n",
       "      <td>37.60</td>\n",
       "      <td>61.8</td>\n",
       "      <td>79.60</td>\n",
       "      <td>99.0</td>\n",
       "    </tr>\n",
       "    <tr>\n",
       "      <th>avg_score_16</th>\n",
       "      <td>347.0</td>\n",
       "      <td>57.049856</td>\n",
       "      <td>27.968974</td>\n",
       "      <td>0.1</td>\n",
       "      <td>37.00</td>\n",
       "      <td>60.7</td>\n",
       "      <td>80.25</td>\n",
       "      <td>98.9</td>\n",
       "    </tr>\n",
       "    <tr>\n",
       "      <th>full_time_teachers</th>\n",
       "      <td>347.0</td>\n",
       "      <td>44.939481</td>\n",
       "      <td>22.053386</td>\n",
       "      <td>2.0</td>\n",
       "      <td>30.00</td>\n",
       "      <td>40.0</td>\n",
       "      <td>54.00</td>\n",
       "      <td>140.0</td>\n",
       "    </tr>\n",
       "    <tr>\n",
       "      <th>percent_black</th>\n",
       "      <td>347.0</td>\n",
       "      <td>21.197983</td>\n",
       "      <td>23.562538</td>\n",
       "      <td>0.0</td>\n",
       "      <td>3.60</td>\n",
       "      <td>13.5</td>\n",
       "      <td>28.35</td>\n",
       "      <td>97.4</td>\n",
       "    </tr>\n",
       "    <tr>\n",
       "      <th>percent_white</th>\n",
       "      <td>347.0</td>\n",
       "      <td>61.673487</td>\n",
       "      <td>27.274859</td>\n",
       "      <td>1.1</td>\n",
       "      <td>40.60</td>\n",
       "      <td>68.7</td>\n",
       "      <td>85.95</td>\n",
       "      <td>99.7</td>\n",
       "    </tr>\n",
       "    <tr>\n",
       "      <th>percent_asian</th>\n",
       "      <td>347.0</td>\n",
       "      <td>2.642651</td>\n",
       "      <td>3.109629</td>\n",
       "      <td>0.0</td>\n",
       "      <td>0.75</td>\n",
       "      <td>1.6</td>\n",
       "      <td>3.10</td>\n",
       "      <td>21.1</td>\n",
       "    </tr>\n",
       "    <tr>\n",
       "      <th>percent_hispanic</th>\n",
       "      <td>347.0</td>\n",
       "      <td>11.164553</td>\n",
       "      <td>12.030608</td>\n",
       "      <td>0.0</td>\n",
       "      <td>3.80</td>\n",
       "      <td>6.4</td>\n",
       "      <td>13.80</td>\n",
       "      <td>65.2</td>\n",
       "    </tr>\n",
       "  </tbody>\n",
       "</table>\n",
       "</div>"
      ],
      "text/plain": [
       "                     count        mean         std   min     25%    50%  \\\n",
       "school_rating        347.0    2.968300    1.690377   0.0    2.00    3.0   \n",
       "size                 347.0  699.472622  400.598636  53.0  420.50  595.0   \n",
       "reduced_lunch        347.0   50.279539   25.480236   2.0   30.00   51.0   \n",
       "state_percentile_16  347.0   58.801729   32.540747   0.2   30.95   66.4   \n",
       "state_percentile_15  341.0   58.249267   32.702630   0.6   27.10   65.8   \n",
       "stu_teach_ratio      347.0   15.461671    5.725170   4.7   13.70   15.0   \n",
       "avg_score_15         341.0   57.004692   26.696450   1.5   37.60   61.8   \n",
       "avg_score_16         347.0   57.049856   27.968974   0.1   37.00   60.7   \n",
       "full_time_teachers   347.0   44.939481   22.053386   2.0   30.00   40.0   \n",
       "percent_black        347.0   21.197983   23.562538   0.0    3.60   13.5   \n",
       "percent_white        347.0   61.673487   27.274859   1.1   40.60   68.7   \n",
       "percent_asian        347.0    2.642651    3.109629   0.0    0.75    1.6   \n",
       "percent_hispanic     347.0   11.164553   12.030608   0.0    3.80    6.4   \n",
       "\n",
       "                        75%     max  \n",
       "school_rating          4.00     5.0  \n",
       "size                 851.00  2314.0  \n",
       "reduced_lunch         71.50    98.0  \n",
       "state_percentile_16   88.00    99.8  \n",
       "state_percentile_15   88.60    99.8  \n",
       "stu_teach_ratio       16.70   111.0  \n",
       "avg_score_15          79.60    99.0  \n",
       "avg_score_16          80.25    98.9  \n",
       "full_time_teachers    54.00   140.0  \n",
       "percent_black         28.35    97.4  \n",
       "percent_white         85.95    99.7  \n",
       "percent_asian          3.10    21.1  \n",
       "percent_hispanic      13.80    65.2  "
      ]
     },
     "execution_count": 73,
     "metadata": {},
     "output_type": "execute_result"
    }
   ],
   "source": [
    "data.describe().transpose()"
   ]
  },
  {
   "cell_type": "code",
   "execution_count": 94,
   "metadata": {
    "collapsed": true
   },
   "outputs": [],
   "source": [
    "# Groupby:"
   ]
  },
  {
   "cell_type": "code",
   "execution_count": 80,
   "metadata": {},
   "outputs": [
    {
     "data": {
      "text/html": [
       "<div>\n",
       "<style scoped>\n",
       "    .dataframe tbody tr th:only-of-type {\n",
       "        vertical-align: middle;\n",
       "    }\n",
       "\n",
       "    .dataframe tbody tr th {\n",
       "        vertical-align: top;\n",
       "    }\n",
       "\n",
       "    .dataframe thead th {\n",
       "        text-align: right;\n",
       "    }\n",
       "</style>\n",
       "<table border=\"1\" class=\"dataframe\">\n",
       "  <thead>\n",
       "    <tr style=\"text-align: right;\">\n",
       "      <th></th>\n",
       "      <th>reduced_lunch</th>\n",
       "      <th>stu_teach_ratio</th>\n",
       "    </tr>\n",
       "    <tr>\n",
       "      <th>school_rating</th>\n",
       "      <th></th>\n",
       "      <th></th>\n",
       "    </tr>\n",
       "  </thead>\n",
       "  <tbody>\n",
       "    <tr>\n",
       "      <th>0.0</th>\n",
       "      <td>43</td>\n",
       "      <td>43</td>\n",
       "    </tr>\n",
       "    <tr>\n",
       "      <th>1.0</th>\n",
       "      <td>40</td>\n",
       "      <td>40</td>\n",
       "    </tr>\n",
       "    <tr>\n",
       "      <th>2.0</th>\n",
       "      <td>44</td>\n",
       "      <td>44</td>\n",
       "    </tr>\n",
       "    <tr>\n",
       "      <th>3.0</th>\n",
       "      <td>56</td>\n",
       "      <td>56</td>\n",
       "    </tr>\n",
       "    <tr>\n",
       "      <th>4.0</th>\n",
       "      <td>86</td>\n",
       "      <td>86</td>\n",
       "    </tr>\n",
       "    <tr>\n",
       "      <th>5.0</th>\n",
       "      <td>78</td>\n",
       "      <td>78</td>\n",
       "    </tr>\n",
       "  </tbody>\n",
       "</table>\n",
       "</div>"
      ],
      "text/plain": [
       "               reduced_lunch  stu_teach_ratio\n",
       "school_rating                                \n",
       "0.0                       43               43\n",
       "1.0                       40               40\n",
       "2.0                       44               44\n",
       "3.0                       56               56\n",
       "4.0                       86               86\n",
       "5.0                       78               78"
      ]
     },
     "execution_count": 80,
     "metadata": {},
     "output_type": "execute_result"
    }
   ],
   "source": [
    "data.groupby('school_rating')['reduced_lunch','stu_teach_ratio'].count()"
   ]
  },
  {
   "cell_type": "code",
   "execution_count": 84,
   "metadata": {},
   "outputs": [
    {
     "data": {
      "text/html": [
       "<div>\n",
       "<style scoped>\n",
       "    .dataframe tbody tr th:only-of-type {\n",
       "        vertical-align: middle;\n",
       "    }\n",
       "\n",
       "    .dataframe tbody tr th {\n",
       "        vertical-align: top;\n",
       "    }\n",
       "\n",
       "    .dataframe thead th {\n",
       "        text-align: right;\n",
       "    }\n",
       "</style>\n",
       "<table border=\"1\" class=\"dataframe\">\n",
       "  <thead>\n",
       "    <tr style=\"text-align: right;\">\n",
       "      <th></th>\n",
       "      <th>reduced_lunch</th>\n",
       "      <th>stu_teach_ratio</th>\n",
       "    </tr>\n",
       "    <tr>\n",
       "      <th>school_rating</th>\n",
       "      <th></th>\n",
       "      <th></th>\n",
       "    </tr>\n",
       "  </thead>\n",
       "  <tbody>\n",
       "    <tr>\n",
       "      <th>0.0</th>\n",
       "      <td>3594.0</td>\n",
       "      <td>584.1</td>\n",
       "    </tr>\n",
       "    <tr>\n",
       "      <th>1.0</th>\n",
       "      <td>2998.0</td>\n",
       "      <td>596.5</td>\n",
       "    </tr>\n",
       "    <tr>\n",
       "      <th>2.0</th>\n",
       "      <td>2828.0</td>\n",
       "      <td>635.1</td>\n",
       "    </tr>\n",
       "    <tr>\n",
       "      <th>3.0</th>\n",
       "      <td>2816.0</td>\n",
       "      <td>844.8</td>\n",
       "    </tr>\n",
       "    <tr>\n",
       "      <th>4.0</th>\n",
       "      <td>3526.0</td>\n",
       "      <td>1317.8</td>\n",
       "    </tr>\n",
       "    <tr>\n",
       "      <th>5.0</th>\n",
       "      <td>1685.0</td>\n",
       "      <td>1386.9</td>\n",
       "    </tr>\n",
       "  </tbody>\n",
       "</table>\n",
       "</div>"
      ],
      "text/plain": [
       "               reduced_lunch  stu_teach_ratio\n",
       "school_rating                                \n",
       "0.0                   3594.0            584.1\n",
       "1.0                   2998.0            596.5\n",
       "2.0                   2828.0            635.1\n",
       "3.0                   2816.0            844.8\n",
       "4.0                   3526.0           1317.8\n",
       "5.0                   1685.0           1386.9"
      ]
     },
     "execution_count": 84,
     "metadata": {},
     "output_type": "execute_result"
    }
   ],
   "source": [
    "data.groupby('school_rating')['reduced_lunch','stu_teach_ratio'].sum()"
   ]
  },
  {
   "cell_type": "code",
   "execution_count": 93,
   "metadata": {
    "collapsed": true
   },
   "outputs": [],
   "source": [
    "# correlation analysis:"
   ]
  },
  {
   "cell_type": "code",
   "execution_count": 92,
   "metadata": {},
   "outputs": [
    {
     "data": {
      "text/html": [
       "<div>\n",
       "<style scoped>\n",
       "    .dataframe tbody tr th:only-of-type {\n",
       "        vertical-align: middle;\n",
       "    }\n",
       "\n",
       "    .dataframe tbody tr th {\n",
       "        vertical-align: top;\n",
       "    }\n",
       "\n",
       "    .dataframe thead th {\n",
       "        text-align: right;\n",
       "    }\n",
       "</style>\n",
       "<table border=\"1\" class=\"dataframe\">\n",
       "  <thead>\n",
       "    <tr style=\"text-align: right;\">\n",
       "      <th></th>\n",
       "      <th>reduced_lunch</th>\n",
       "      <th>school_rating</th>\n",
       "    </tr>\n",
       "  </thead>\n",
       "  <tbody>\n",
       "    <tr>\n",
       "      <th>reduced_lunch</th>\n",
       "      <td>1.000000</td>\n",
       "      <td>-0.815757</td>\n",
       "    </tr>\n",
       "    <tr>\n",
       "      <th>school_rating</th>\n",
       "      <td>-0.815757</td>\n",
       "      <td>1.000000</td>\n",
       "    </tr>\n",
       "  </tbody>\n",
       "</table>\n",
       "</div>"
      ],
      "text/plain": [
       "               reduced_lunch  school_rating\n",
       "reduced_lunch       1.000000      -0.815757\n",
       "school_rating      -0.815757       1.000000"
      ]
     },
     "execution_count": 92,
     "metadata": {},
     "output_type": "execute_result"
    }
   ],
   "source": [
    "data[['reduced_lunch','school_rating']].corr()"
   ]
  },
  {
   "cell_type": "code",
   "execution_count": 96,
   "metadata": {
    "collapsed": true
   },
   "outputs": [],
   "source": [
    "# Scatter plot:"
   ]
  },
  {
   "cell_type": "code",
   "execution_count": 101,
   "metadata": {},
   "outputs": [
    {
     "data": {
      "image/png": "[encoded data removed]",
      "text/plain": [
       "<Figure size 720x360 with 1 Axes>"
      ]
     },
     "metadata": {},
     "output_type": "display_data"
    }
   ],
   "source": [
    "# Bi -variate analysis:\n",
    "\n",
    "plt.figure(figsize=(10,5))\n",
    "plt.scatter(x = data['reduced_lunch'],y = data['school_rating'])\n",
    "plt.xlabel('reduced_lunch')\n",
    "plt.ylabel('school_rating')\n",
    "plt.title('reduced_lunch vs school_rating')\n",
    "plt.show()"
   ]
  },
  {
   "cell_type": "code",
   "execution_count": 106,
   "metadata": {
    "collapsed": true
   },
   "outputs": [],
   "source": [
    "# Correlation matrix:"
   ]
  },
  {
   "cell_type": "code",
   "execution_count": 105,
   "metadata": {},
   "outputs": [
    {
     "data": {
      "image/png": "[encoded data removed]",
      "text/plain": [
       "<Figure size 720x720 with 2 Axes>"
      ]
     },
     "metadata": {},
     "output_type": "display_data"
    }
   ],
   "source": [
    "plt.figure(figsize=(10,10))\n",
    "sns.heatmap(data.corr(),annot=True)\n",
    "plt.show()"
   ]
  },
  {
   "cell_type": "code",
   "execution_count": null,
   "metadata": {
    "collapsed": true
   },
   "outputs": [],
   "source": []
  }
 ],
 "metadata": {
  "kernelspec": {
   "display_name": "Python 3",
   "language": "python",
   "name": "python3"
  },
  "language_info": {
   "codemirror_mode": {
    "name": "ipython",
    "version": 3
   },
   "file_extension": ".py",
   "mimetype": "text/x-python",
   "name": "python",
   "nbconvert_exporter": "python",
   "pygments_lexer": "ipython3",
   "version": "3.6.13"
  }
 },
 "nbformat": 4,
 "nbformat_minor": 2
}
