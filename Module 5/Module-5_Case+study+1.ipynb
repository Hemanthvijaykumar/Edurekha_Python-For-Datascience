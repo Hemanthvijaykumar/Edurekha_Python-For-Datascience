{
 "cells": [
  {
   "cell_type": "code",
   "execution_count": 2,
   "metadata": {
    "collapsed": true
   },
   "outputs": [],
   "source": [
    "import numpy as np\n",
    "import pandas as pd\n",
    "import matplotlib.pyplot as plt\n",
    "import seaborn as sns\n",
    "\n",
    "% matplotlib inline"
   ]
  },
  {
   "cell_type": "code",
   "execution_count": 2,
   "metadata": {
    "collapsed": true
   },
   "outputs": [],
   "source": [
    "data = pd.read_csv('HollywoodMovies.csv')"
   ]
  },
  {
   "cell_type": "code",
   "execution_count": 3,
   "metadata": {},
   "outputs": [
    {
     "name": "stdout",
     "output_type": "stream",
     "text": [
      "(970, 16)\n"
     ]
    },
    {
     "data": {
      "text/html": [
       "<div>\n",
       "<style scoped>\n",
       "    .dataframe tbody tr th:only-of-type {\n",
       "        vertical-align: middle;\n",
       "    }\n",
       "\n",
       "    .dataframe tbody tr th {\n",
       "        vertical-align: top;\n",
       "    }\n",
       "\n",
       "    .dataframe thead th {\n",
       "        text-align: right;\n",
       "    }\n",
       "</style>\n",
       "<table border=\"1\" class=\"dataframe\">\n",
       "  <thead>\n",
       "    <tr style=\"text-align: right;\">\n",
       "      <th></th>\n",
       "      <th>Movie</th>\n",
       "      <th>LeadStudio</th>\n",
       "      <th>RottenTomatoes</th>\n",
       "      <th>AudienceScore</th>\n",
       "      <th>Story</th>\n",
       "      <th>Genre</th>\n",
       "      <th>TheatersOpenWeek</th>\n",
       "      <th>OpeningWeekend</th>\n",
       "      <th>BOAvgOpenWeekend</th>\n",
       "      <th>DomesticGross</th>\n",
       "      <th>ForeignGross</th>\n",
       "      <th>WorldGross</th>\n",
       "      <th>Budget</th>\n",
       "      <th>Profitability</th>\n",
       "      <th>OpenProfit</th>\n",
       "      <th>Year</th>\n",
       "    </tr>\n",
       "  </thead>\n",
       "  <tbody>\n",
       "    <tr>\n",
       "      <th>0</th>\n",
       "      <td>Spider-Man 3</td>\n",
       "      <td>Sony</td>\n",
       "      <td>61.0</td>\n",
       "      <td>54.0</td>\n",
       "      <td>Metamorphosis</td>\n",
       "      <td>Action</td>\n",
       "      <td>4252.0</td>\n",
       "      <td>151.1</td>\n",
       "      <td>35540.0</td>\n",
       "      <td>336.53</td>\n",
       "      <td>554.34</td>\n",
       "      <td>890.87</td>\n",
       "      <td>258.0</td>\n",
       "      <td>345.30</td>\n",
       "      <td>58.57</td>\n",
       "      <td>2007</td>\n",
       "    </tr>\n",
       "    <tr>\n",
       "      <th>1</th>\n",
       "      <td>Shrek the Third</td>\n",
       "      <td>Paramount</td>\n",
       "      <td>42.0</td>\n",
       "      <td>57.0</td>\n",
       "      <td>Quest</td>\n",
       "      <td>Animation</td>\n",
       "      <td>4122.0</td>\n",
       "      <td>121.6</td>\n",
       "      <td>29507.0</td>\n",
       "      <td>322.72</td>\n",
       "      <td>476.24</td>\n",
       "      <td>798.96</td>\n",
       "      <td>160.0</td>\n",
       "      <td>499.35</td>\n",
       "      <td>76.00</td>\n",
       "      <td>2007</td>\n",
       "    </tr>\n",
       "    <tr>\n",
       "      <th>2</th>\n",
       "      <td>Transformers</td>\n",
       "      <td>Paramount</td>\n",
       "      <td>57.0</td>\n",
       "      <td>89.0</td>\n",
       "      <td>Monster Force</td>\n",
       "      <td>Action</td>\n",
       "      <td>4011.0</td>\n",
       "      <td>70.5</td>\n",
       "      <td>17577.0</td>\n",
       "      <td>319.25</td>\n",
       "      <td>390.46</td>\n",
       "      <td>709.71</td>\n",
       "      <td>150.0</td>\n",
       "      <td>473.14</td>\n",
       "      <td>47.00</td>\n",
       "      <td>2007</td>\n",
       "    </tr>\n",
       "    <tr>\n",
       "      <th>3</th>\n",
       "      <td>Pirates of the Caribbean: At World's End</td>\n",
       "      <td>Disney</td>\n",
       "      <td>45.0</td>\n",
       "      <td>74.0</td>\n",
       "      <td>Rescue</td>\n",
       "      <td>Action</td>\n",
       "      <td>4362.0</td>\n",
       "      <td>114.7</td>\n",
       "      <td>26302.0</td>\n",
       "      <td>309.42</td>\n",
       "      <td>654.00</td>\n",
       "      <td>963.42</td>\n",
       "      <td>300.0</td>\n",
       "      <td>321.14</td>\n",
       "      <td>38.23</td>\n",
       "      <td>2007</td>\n",
       "    </tr>\n",
       "    <tr>\n",
       "      <th>4</th>\n",
       "      <td>Harry Potter and the Order of the Phoenix</td>\n",
       "      <td>Warner Bros</td>\n",
       "      <td>78.0</td>\n",
       "      <td>82.0</td>\n",
       "      <td>Quest</td>\n",
       "      <td>Adventure</td>\n",
       "      <td>4285.0</td>\n",
       "      <td>77.1</td>\n",
       "      <td>17998.0</td>\n",
       "      <td>292.00</td>\n",
       "      <td>647.88</td>\n",
       "      <td>939.89</td>\n",
       "      <td>150.0</td>\n",
       "      <td>626.59</td>\n",
       "      <td>51.40</td>\n",
       "      <td>2007</td>\n",
       "    </tr>\n",
       "  </tbody>\n",
       "</table>\n",
       "</div>"
      ],
      "text/plain": [
       "                                       Movie   LeadStudio  RottenTomatoes  \\\n",
       "0                               Spider-Man 3         Sony            61.0   \n",
       "1                            Shrek the Third    Paramount            42.0   \n",
       "2                               Transformers    Paramount            57.0   \n",
       "3   Pirates of the Caribbean: At World's End       Disney            45.0   \n",
       "4  Harry Potter and the Order of the Phoenix  Warner Bros            78.0   \n",
       "\n",
       "   AudienceScore          Story      Genre  TheatersOpenWeek  OpeningWeekend  \\\n",
       "0           54.0  Metamorphosis     Action            4252.0           151.1   \n",
       "1           57.0          Quest  Animation            4122.0           121.6   \n",
       "2           89.0  Monster Force     Action            4011.0            70.5   \n",
       "3           74.0         Rescue     Action            4362.0           114.7   \n",
       "4           82.0          Quest  Adventure            4285.0            77.1   \n",
       "\n",
       "   BOAvgOpenWeekend  DomesticGross  ForeignGross  WorldGross  Budget  \\\n",
       "0           35540.0         336.53        554.34      890.87   258.0   \n",
       "1           29507.0         322.72        476.24      798.96   160.0   \n",
       "2           17577.0         319.25        390.46      709.71   150.0   \n",
       "3           26302.0         309.42        654.00      963.42   300.0   \n",
       "4           17998.0         292.00        647.88      939.89   150.0   \n",
       "\n",
       "   Profitability  OpenProfit  Year  \n",
       "0         345.30       58.57  2007  \n",
       "1         499.35       76.00  2007  \n",
       "2         473.14       47.00  2007  \n",
       "3         321.14       38.23  2007  \n",
       "4         626.59       51.40  2007  "
      ]
     },
     "execution_count": 3,
     "metadata": {},
     "output_type": "execute_result"
    }
   ],
   "source": [
    "print(data.shape)\n",
    "data.head()"
   ]
  },
  {
   "cell_type": "markdown",
   "metadata": {},
   "source": [
    "### 1. Find the highest rated movie in the “Quest” story type. "
   ]
  },
  {
   "cell_type": "code",
   "execution_count": 22,
   "metadata": {},
   "outputs": [
    {
     "data": {
      "text/html": [
       "<div>\n",
       "<style scoped>\n",
       "    .dataframe tbody tr th:only-of-type {\n",
       "        vertical-align: middle;\n",
       "    }\n",
       "\n",
       "    .dataframe tbody tr th {\n",
       "        vertical-align: top;\n",
       "    }\n",
       "\n",
       "    .dataframe thead th {\n",
       "        text-align: right;\n",
       "    }\n",
       "</style>\n",
       "<table border=\"1\" class=\"dataframe\">\n",
       "  <thead>\n",
       "    <tr style=\"text-align: right;\">\n",
       "      <th></th>\n",
       "      <th>Movie</th>\n",
       "      <th>RottenTomatoes</th>\n",
       "    </tr>\n",
       "  </thead>\n",
       "  <tbody>\n",
       "    <tr>\n",
       "      <th>343</th>\n",
       "      <td>The Hurt Locker</td>\n",
       "      <td>97.0</td>\n",
       "    </tr>\n",
       "    <tr>\n",
       "      <th>629</th>\n",
       "      <td>The Muppets</td>\n",
       "      <td>97.0</td>\n",
       "    </tr>\n",
       "  </tbody>\n",
       "</table>\n",
       "</div>"
      ],
      "text/plain": [
       "               Movie  RottenTomatoes\n",
       "343  The Hurt Locker            97.0\n",
       "629      The Muppets            97.0"
      ]
     },
     "execution_count": 22,
     "metadata": {},
     "output_type": "execute_result"
    }
   ],
   "source": [
    "data1 = data[data['Story'] == 'Quest'].filter(['Movie','RottenTomatoes'])\n",
    "highest_rate = data1['RottenTomatoes'].max()\n",
    "data1[data1['RottenTomatoes'] == highest_rate]"
   ]
  },
  {
   "cell_type": "code",
   "execution_count": 23,
   "metadata": {
    "collapsed": true
   },
   "outputs": [],
   "source": [
    "# The highest rated movies are \"The Hurt Locker\" and \"The Muppets\""
   ]
  },
  {
   "cell_type": "markdown",
   "metadata": {},
   "source": [
    "###  2. Find the genre in which there has been the greatest number of movie releases"
   ]
  },
  {
   "cell_type": "code",
   "execution_count": 26,
   "metadata": {},
   "outputs": [
    {
     "data": {
      "text/plain": [
       "Comedy         177\n",
       "Action         166\n",
       "Drama          109\n",
       "Horror          52\n",
       "Animation       51\n",
       "Thriller        35\n",
       "Adventure       30\n",
       "Romance         20\n",
       "Crime           15\n",
       "Biography       14\n",
       "Documentary      7\n",
       "Fantasy          6\n",
       "Mystery          5\n",
       "Musical          4\n",
       "Name: Genre, dtype: int64"
      ]
     },
     "execution_count": 26,
     "metadata": {},
     "output_type": "execute_result"
    }
   ],
   "source": [
    "data['Genre'].value_counts()"
   ]
  },
  {
   "cell_type": "code",
   "execution_count": null,
   "metadata": {
    "collapsed": true
   },
   "outputs": [],
   "source": [
    "# Genre 'comedy' has the greatest number of movie releases."
   ]
  },
  {
   "cell_type": "markdown",
   "metadata": {},
   "source": [
    "### 3. Print the names of the top five movies with the costliest budgets. "
   ]
  },
  {
   "cell_type": "code",
   "execution_count": 31,
   "metadata": {
    "collapsed": true
   },
   "outputs": [],
   "source": [
    "data_sorted = data.sort_values('Budget',ascending=False)"
   ]
  },
  {
   "cell_type": "code",
   "execution_count": 34,
   "metadata": {},
   "outputs": [
    {
     "data": {
      "text/html": [
       "<div>\n",
       "<style scoped>\n",
       "    .dataframe tbody tr th:only-of-type {\n",
       "        vertical-align: middle;\n",
       "    }\n",
       "\n",
       "    .dataframe tbody tr th {\n",
       "        vertical-align: top;\n",
       "    }\n",
       "\n",
       "    .dataframe thead th {\n",
       "        text-align: right;\n",
       "    }\n",
       "</style>\n",
       "<table border=\"1\" class=\"dataframe\">\n",
       "  <thead>\n",
       "    <tr style=\"text-align: right;\">\n",
       "      <th></th>\n",
       "      <th>Movie</th>\n",
       "      <th>Budget</th>\n",
       "    </tr>\n",
       "  </thead>\n",
       "  <tbody>\n",
       "    <tr>\n",
       "      <th>3</th>\n",
       "      <td>Pirates of the Caribbean: At World's End</td>\n",
       "      <td>300.0</td>\n",
       "    </tr>\n",
       "    <tr>\n",
       "      <th>468</th>\n",
       "      <td>Tangled</td>\n",
       "      <td>260.0</td>\n",
       "    </tr>\n",
       "    <tr>\n",
       "      <th>0</th>\n",
       "      <td>Spider-Man 3</td>\n",
       "      <td>258.0</td>\n",
       "    </tr>\n",
       "    <tr>\n",
       "      <th>778</th>\n",
       "      <td>The Dark Knight Rises</td>\n",
       "      <td>250.0</td>\n",
       "    </tr>\n",
       "    <tr>\n",
       "      <th>241</th>\n",
       "      <td>Harry Potter and the Half-Blood Prince</td>\n",
       "      <td>250.0</td>\n",
       "    </tr>\n",
       "  </tbody>\n",
       "</table>\n",
       "</div>"
      ],
      "text/plain": [
       "                                        Movie  Budget\n",
       "3    Pirates of the Caribbean: At World's End   300.0\n",
       "468                                   Tangled   260.0\n",
       "0                                Spider-Man 3   258.0\n",
       "778                     The Dark Knight Rises   250.0\n",
       "241    Harry Potter and the Half-Blood Prince   250.0"
      ]
     },
     "execution_count": 34,
     "metadata": {},
     "output_type": "execute_result"
    }
   ],
   "source": [
    "data_sorted[['Movie','Budget']].head()"
   ]
  },
  {
   "cell_type": "markdown",
   "metadata": {},
   "source": [
    "### Is there any correspondence between the critics’ evaluation of a movie and its acceptance by the public? Find out, by plotting the net profitability of a movie against the ratings it receives on Rotten Tomatoes. "
   ]
  },
  {
   "cell_type": "code",
   "execution_count": 38,
   "metadata": {},
   "outputs": [
    {
     "data": {
      "image/png": "[encoded data removed]",
      "text/plain": [
       "<Figure size 432x288 with 1 Axes>"
      ]
     },
     "metadata": {},
     "output_type": "display_data"
    }
   ],
   "source": [
    "plt.scatter(data['AudienceScore'],data['RottenTomatoes'])\n",
    "plt.xlabel(\"AudienceScore\")\n",
    "plt.ylabel(\"RottenTomatoes\")\n",
    "plt.title(\"AudienceScore vs RottenTomatoes\")\n",
    "plt.show()"
   ]
  },
  {
   "cell_type": "code",
   "execution_count": 39,
   "metadata": {},
   "outputs": [
    {
     "data": {
      "text/html": [
       "<div>\n",
       "<style scoped>\n",
       "    .dataframe tbody tr th:only-of-type {\n",
       "        vertical-align: middle;\n",
       "    }\n",
       "\n",
       "    .dataframe tbody tr th {\n",
       "        vertical-align: top;\n",
       "    }\n",
       "\n",
       "    .dataframe thead th {\n",
       "        text-align: right;\n",
       "    }\n",
       "</style>\n",
       "<table border=\"1\" class=\"dataframe\">\n",
       "  <thead>\n",
       "    <tr style=\"text-align: right;\">\n",
       "      <th></th>\n",
       "      <th>AudienceScore</th>\n",
       "      <th>RottenTomatoes</th>\n",
       "    </tr>\n",
       "  </thead>\n",
       "  <tbody>\n",
       "    <tr>\n",
       "      <th>AudienceScore</th>\n",
       "      <td>1.000000</td>\n",
       "      <td>0.702908</td>\n",
       "    </tr>\n",
       "    <tr>\n",
       "      <th>RottenTomatoes</th>\n",
       "      <td>0.702908</td>\n",
       "      <td>1.000000</td>\n",
       "    </tr>\n",
       "  </tbody>\n",
       "</table>\n",
       "</div>"
      ],
      "text/plain": [
       "                AudienceScore  RottenTomatoes\n",
       "AudienceScore        1.000000        0.702908\n",
       "RottenTomatoes       0.702908        1.000000"
      ]
     },
     "execution_count": 39,
     "metadata": {},
     "output_type": "execute_result"
    }
   ],
   "source": [
    "data[['AudienceScore','RottenTomatoes']].corr()"
   ]
  },
  {
   "cell_type": "code",
   "execution_count": null,
   "metadata": {
    "collapsed": true
   },
   "outputs": [],
   "source": [
    "# AudienceScore and Rotten Tomatoes score has significant correlation."
   ]
  },
  {
   "cell_type": "code",
   "execution_count": 40,
   "metadata": {},
   "outputs": [
    {
     "data": {
      "image/png": "[encoded data removed]",
      "text/plain": [
       "<Figure size 432x288 with 1 Axes>"
      ]
     },
     "metadata": {},
     "output_type": "display_data"
    }
   ],
   "source": [
    "plt.scatter(data['Profitability'],data['RottenTomatoes'])\n",
    "plt.xlabel(\"Profitability\")\n",
    "plt.ylabel(\"RottenTomatoes\")\n",
    "plt.title(\"Profitability vs RottenTomatoes\")\n",
    "plt.show()"
   ]
  },
  {
   "cell_type": "code",
   "execution_count": 36,
   "metadata": {},
   "outputs": [
    {
     "data": {
      "text/html": [
       "<div>\n",
       "<style scoped>\n",
       "    .dataframe tbody tr th:only-of-type {\n",
       "        vertical-align: middle;\n",
       "    }\n",
       "\n",
       "    .dataframe tbody tr th {\n",
       "        vertical-align: top;\n",
       "    }\n",
       "\n",
       "    .dataframe thead th {\n",
       "        text-align: right;\n",
       "    }\n",
       "</style>\n",
       "<table border=\"1\" class=\"dataframe\">\n",
       "  <thead>\n",
       "    <tr style=\"text-align: right;\">\n",
       "      <th></th>\n",
       "      <th>Profitability</th>\n",
       "      <th>RottenTomatoes</th>\n",
       "    </tr>\n",
       "  </thead>\n",
       "  <tbody>\n",
       "    <tr>\n",
       "      <th>Profitability</th>\n",
       "      <td>1.00000</td>\n",
       "      <td>0.07752</td>\n",
       "    </tr>\n",
       "    <tr>\n",
       "      <th>RottenTomatoes</th>\n",
       "      <td>0.07752</td>\n",
       "      <td>1.00000</td>\n",
       "    </tr>\n",
       "  </tbody>\n",
       "</table>\n",
       "</div>"
      ],
      "text/plain": [
       "                Profitability  RottenTomatoes\n",
       "Profitability         1.00000         0.07752\n",
       "RottenTomatoes        0.07752         1.00000"
      ]
     },
     "execution_count": 36,
     "metadata": {},
     "output_type": "execute_result"
    }
   ],
   "source": [
    "data[['Profitability','RottenTomatoes']].corr()"
   ]
  },
  {
   "cell_type": "code",
   "execution_count": 41,
   "metadata": {
    "collapsed": true
   },
   "outputs": [],
   "source": [
    "# Profittabliity and ratings on Rotten tomatoes does not have any significant correspondance."
   ]
  },
  {
   "cell_type": "markdown",
   "metadata": {},
   "source": [
    "### Question 5: "
   ]
  },
  {
   "cell_type": "markdown",
   "metadata": {},
   "source": [
    "### 5.1: From the raw data below create a data frame "
   ]
  },
  {
   "cell_type": "code",
   "execution_count": 3,
   "metadata": {},
   "outputs": [
    {
     "data": {
      "text/html": [
       "<div>\n",
       "<style scoped>\n",
       "    .dataframe tbody tr th:only-of-type {\n",
       "        vertical-align: middle;\n",
       "    }\n",
       "\n",
       "    .dataframe tbody tr th {\n",
       "        vertical-align: top;\n",
       "    }\n",
       "\n",
       "    .dataframe thead th {\n",
       "        text-align: right;\n",
       "    }\n",
       "</style>\n",
       "<table border=\"1\" class=\"dataframe\">\n",
       "  <thead>\n",
       "    <tr style=\"text-align: right;\">\n",
       "      <th></th>\n",
       "      <th>first_name</th>\n",
       "      <th>last_name</th>\n",
       "      <th>age</th>\n",
       "      <th>preTestScore</th>\n",
       "      <th>postTestScore</th>\n",
       "    </tr>\n",
       "  </thead>\n",
       "  <tbody>\n",
       "    <tr>\n",
       "      <th>0</th>\n",
       "      <td>Jason</td>\n",
       "      <td>Miller</td>\n",
       "      <td>42</td>\n",
       "      <td>4</td>\n",
       "      <td>25,000</td>\n",
       "    </tr>\n",
       "    <tr>\n",
       "      <th>1</th>\n",
       "      <td>Molly</td>\n",
       "      <td>Jacobson</td>\n",
       "      <td>52</td>\n",
       "      <td>24</td>\n",
       "      <td>94,000</td>\n",
       "    </tr>\n",
       "    <tr>\n",
       "      <th>2</th>\n",
       "      <td>Tina</td>\n",
       "      <td>.</td>\n",
       "      <td>36</td>\n",
       "      <td>31</td>\n",
       "      <td>57</td>\n",
       "    </tr>\n",
       "    <tr>\n",
       "      <th>3</th>\n",
       "      <td>Jake</td>\n",
       "      <td>Milner</td>\n",
       "      <td>24</td>\n",
       "      <td>.</td>\n",
       "      <td>62</td>\n",
       "    </tr>\n",
       "    <tr>\n",
       "      <th>4</th>\n",
       "      <td>Amy</td>\n",
       "      <td>Cooze</td>\n",
       "      <td>73</td>\n",
       "      <td>.</td>\n",
       "      <td>70</td>\n",
       "    </tr>\n",
       "  </tbody>\n",
       "</table>\n",
       "</div>"
      ],
      "text/plain": [
       "  first_name last_name  age preTestScore postTestScore\n",
       "0      Jason    Miller   42            4        25,000\n",
       "1      Molly  Jacobson   52           24        94,000\n",
       "2       Tina         .   36           31            57\n",
       "3       Jake    Milner   24            .            62\n",
       "4        Amy     Cooze   73            .            70"
      ]
     },
     "execution_count": 3,
     "metadata": {},
     "output_type": "execute_result"
    }
   ],
   "source": [
    "data = pd.DataFrame({'first_name': ['Jason', 'Molly', 'Tina', 'Jake', 'Amy'],\n",
    "'last_name': ['Miller', 'Jacobson', \".\", 'Milner', 'Cooze'],\n",
    "'age': [42, 52, 36, 24, 73],\n",
    "'preTestScore': [4, 24, 31, \".\", \".\"],\n",
    "'postTestScore': [\"25,000\", \"94,000\", 57, 62, 70]}\n",
    ")\n",
    "data"
   ]
  },
  {
   "cell_type": "markdown",
   "metadata": {},
   "source": [
    "### 5.2: Save the dataframe into a csv file as example.csv "
   ]
  },
  {
   "cell_type": "code",
   "execution_count": 4,
   "metadata": {
    "collapsed": true
   },
   "outputs": [],
   "source": [
    "data.to_csv('example.csv')"
   ]
  },
  {
   "cell_type": "markdown",
   "metadata": {},
   "source": [
    "###  5.3: Read the example.csv and print the data frame"
   ]
  },
  {
   "cell_type": "code",
   "execution_count": 5,
   "metadata": {},
   "outputs": [
    {
     "data": {
      "text/html": [
       "<div>\n",
       "<style scoped>\n",
       "    .dataframe tbody tr th:only-of-type {\n",
       "        vertical-align: middle;\n",
       "    }\n",
       "\n",
       "    .dataframe tbody tr th {\n",
       "        vertical-align: top;\n",
       "    }\n",
       "\n",
       "    .dataframe thead th {\n",
       "        text-align: right;\n",
       "    }\n",
       "</style>\n",
       "<table border=\"1\" class=\"dataframe\">\n",
       "  <thead>\n",
       "    <tr style=\"text-align: right;\">\n",
       "      <th></th>\n",
       "      <th>Unnamed: 0</th>\n",
       "      <th>first_name</th>\n",
       "      <th>last_name</th>\n",
       "      <th>age</th>\n",
       "      <th>preTestScore</th>\n",
       "      <th>postTestScore</th>\n",
       "    </tr>\n",
       "  </thead>\n",
       "  <tbody>\n",
       "    <tr>\n",
       "      <th>0</th>\n",
       "      <td>0</td>\n",
       "      <td>Jason</td>\n",
       "      <td>Miller</td>\n",
       "      <td>42</td>\n",
       "      <td>4</td>\n",
       "      <td>25,000</td>\n",
       "    </tr>\n",
       "    <tr>\n",
       "      <th>1</th>\n",
       "      <td>1</td>\n",
       "      <td>Molly</td>\n",
       "      <td>Jacobson</td>\n",
       "      <td>52</td>\n",
       "      <td>24</td>\n",
       "      <td>94,000</td>\n",
       "    </tr>\n",
       "    <tr>\n",
       "      <th>2</th>\n",
       "      <td>2</td>\n",
       "      <td>Tina</td>\n",
       "      <td>.</td>\n",
       "      <td>36</td>\n",
       "      <td>31</td>\n",
       "      <td>57</td>\n",
       "    </tr>\n",
       "    <tr>\n",
       "      <th>3</th>\n",
       "      <td>3</td>\n",
       "      <td>Jake</td>\n",
       "      <td>Milner</td>\n",
       "      <td>24</td>\n",
       "      <td>.</td>\n",
       "      <td>62</td>\n",
       "    </tr>\n",
       "    <tr>\n",
       "      <th>4</th>\n",
       "      <td>4</td>\n",
       "      <td>Amy</td>\n",
       "      <td>Cooze</td>\n",
       "      <td>73</td>\n",
       "      <td>.</td>\n",
       "      <td>70</td>\n",
       "    </tr>\n",
       "  </tbody>\n",
       "</table>\n",
       "</div>"
      ],
      "text/plain": [
       "   Unnamed: 0 first_name last_name  age preTestScore postTestScore\n",
       "0           0      Jason    Miller   42            4        25,000\n",
       "1           1      Molly  Jacobson   52           24        94,000\n",
       "2           2       Tina         .   36           31            57\n",
       "3           3       Jake    Milner   24            .            62\n",
       "4           4        Amy     Cooze   73            .            70"
      ]
     },
     "execution_count": 5,
     "metadata": {},
     "output_type": "execute_result"
    }
   ],
   "source": [
    "Data = pd.read_csv('example.csv')\n",
    "Data"
   ]
  },
  {
   "cell_type": "markdown",
   "metadata": {},
   "source": [
    "###  5.4: Read the example.csv without column heading"
   ]
  },
  {
   "cell_type": "code",
   "execution_count": 6,
   "metadata": {},
   "outputs": [
    {
     "data": {
      "text/html": [
       "<div>\n",
       "<style scoped>\n",
       "    .dataframe tbody tr th:only-of-type {\n",
       "        vertical-align: middle;\n",
       "    }\n",
       "\n",
       "    .dataframe tbody tr th {\n",
       "        vertical-align: top;\n",
       "    }\n",
       "\n",
       "    .dataframe thead th {\n",
       "        text-align: right;\n",
       "    }\n",
       "</style>\n",
       "<table border=\"1\" class=\"dataframe\">\n",
       "  <thead>\n",
       "    <tr style=\"text-align: right;\">\n",
       "      <th></th>\n",
       "      <th>0</th>\n",
       "      <th>1</th>\n",
       "      <th>2</th>\n",
       "      <th>3</th>\n",
       "      <th>4</th>\n",
       "      <th>5</th>\n",
       "    </tr>\n",
       "  </thead>\n",
       "  <tbody>\n",
       "    <tr>\n",
       "      <th>0</th>\n",
       "      <td>NaN</td>\n",
       "      <td>first_name</td>\n",
       "      <td>last_name</td>\n",
       "      <td>age</td>\n",
       "      <td>preTestScore</td>\n",
       "      <td>postTestScore</td>\n",
       "    </tr>\n",
       "    <tr>\n",
       "      <th>1</th>\n",
       "      <td>0.0</td>\n",
       "      <td>Jason</td>\n",
       "      <td>Miller</td>\n",
       "      <td>42</td>\n",
       "      <td>4</td>\n",
       "      <td>25,000</td>\n",
       "    </tr>\n",
       "    <tr>\n",
       "      <th>2</th>\n",
       "      <td>1.0</td>\n",
       "      <td>Molly</td>\n",
       "      <td>Jacobson</td>\n",
       "      <td>52</td>\n",
       "      <td>24</td>\n",
       "      <td>94,000</td>\n",
       "    </tr>\n",
       "    <tr>\n",
       "      <th>3</th>\n",
       "      <td>2.0</td>\n",
       "      <td>Tina</td>\n",
       "      <td>.</td>\n",
       "      <td>36</td>\n",
       "      <td>31</td>\n",
       "      <td>57</td>\n",
       "    </tr>\n",
       "    <tr>\n",
       "      <th>4</th>\n",
       "      <td>3.0</td>\n",
       "      <td>Jake</td>\n",
       "      <td>Milner</td>\n",
       "      <td>24</td>\n",
       "      <td>.</td>\n",
       "      <td>62</td>\n",
       "    </tr>\n",
       "    <tr>\n",
       "      <th>5</th>\n",
       "      <td>4.0</td>\n",
       "      <td>Amy</td>\n",
       "      <td>Cooze</td>\n",
       "      <td>73</td>\n",
       "      <td>.</td>\n",
       "      <td>70</td>\n",
       "    </tr>\n",
       "  </tbody>\n",
       "</table>\n",
       "</div>"
      ],
      "text/plain": [
       "     0           1          2    3             4              5\n",
       "0  NaN  first_name  last_name  age  preTestScore  postTestScore\n",
       "1  0.0       Jason     Miller   42             4         25,000\n",
       "2  1.0       Molly   Jacobson   52            24         94,000\n",
       "3  2.0        Tina          .   36            31             57\n",
       "4  3.0        Jake     Milner   24             .             62\n",
       "5  4.0         Amy      Cooze   73             .             70"
      ]
     },
     "execution_count": 6,
     "metadata": {},
     "output_type": "execute_result"
    }
   ],
   "source": [
    "Data1 = pd.read_csv('example.csv',header=None)\n",
    "Data1"
   ]
  },
  {
   "cell_type": "markdown",
   "metadata": {},
   "source": [
    "###  Question 5: Read the example.csv and make the index columns as 'First Name’ and 'Last Name'"
   ]
  },
  {
   "cell_type": "code",
   "execution_count": 8,
   "metadata": {},
   "outputs": [
    {
     "data": {
      "text/html": [
       "<div>\n",
       "<style scoped>\n",
       "    .dataframe tbody tr th:only-of-type {\n",
       "        vertical-align: middle;\n",
       "    }\n",
       "\n",
       "    .dataframe tbody tr th {\n",
       "        vertical-align: top;\n",
       "    }\n",
       "\n",
       "    .dataframe thead th {\n",
       "        text-align: right;\n",
       "    }\n",
       "</style>\n",
       "<table border=\"1\" class=\"dataframe\">\n",
       "  <thead>\n",
       "    <tr style=\"text-align: right;\">\n",
       "      <th></th>\n",
       "      <th></th>\n",
       "      <th>Unnamed: 0</th>\n",
       "      <th>age</th>\n",
       "      <th>preTestScore</th>\n",
       "      <th>postTestScore</th>\n",
       "    </tr>\n",
       "    <tr>\n",
       "      <th>first_name</th>\n",
       "      <th>last_name</th>\n",
       "      <th></th>\n",
       "      <th></th>\n",
       "      <th></th>\n",
       "      <th></th>\n",
       "    </tr>\n",
       "  </thead>\n",
       "  <tbody>\n",
       "    <tr>\n",
       "      <th>Jason</th>\n",
       "      <th>Miller</th>\n",
       "      <td>0</td>\n",
       "      <td>42</td>\n",
       "      <td>4</td>\n",
       "      <td>25,000</td>\n",
       "    </tr>\n",
       "    <tr>\n",
       "      <th>Molly</th>\n",
       "      <th>Jacobson</th>\n",
       "      <td>1</td>\n",
       "      <td>52</td>\n",
       "      <td>24</td>\n",
       "      <td>94,000</td>\n",
       "    </tr>\n",
       "    <tr>\n",
       "      <th>Tina</th>\n",
       "      <th>.</th>\n",
       "      <td>2</td>\n",
       "      <td>36</td>\n",
       "      <td>31</td>\n",
       "      <td>57</td>\n",
       "    </tr>\n",
       "    <tr>\n",
       "      <th>Jake</th>\n",
       "      <th>Milner</th>\n",
       "      <td>3</td>\n",
       "      <td>24</td>\n",
       "      <td>.</td>\n",
       "      <td>62</td>\n",
       "    </tr>\n",
       "    <tr>\n",
       "      <th>Amy</th>\n",
       "      <th>Cooze</th>\n",
       "      <td>4</td>\n",
       "      <td>73</td>\n",
       "      <td>.</td>\n",
       "      <td>70</td>\n",
       "    </tr>\n",
       "  </tbody>\n",
       "</table>\n",
       "</div>"
      ],
      "text/plain": [
       "                      Unnamed: 0  age preTestScore postTestScore\n",
       "first_name last_name                                            \n",
       "Jason      Miller              0   42            4        25,000\n",
       "Molly      Jacobson            1   52           24        94,000\n",
       "Tina       .                   2   36           31            57\n",
       "Jake       Milner              3   24            .            62\n",
       "Amy        Cooze               4   73            .            70"
      ]
     },
     "execution_count": 8,
     "metadata": {},
     "output_type": "execute_result"
    }
   ],
   "source": [
    "df_with_index = pd.read_csv(\"example.csv\", index_col=[\n",
    "                            \"first_name\", \"last_name\"])\n",
    "df_with_index"
   ]
  },
  {
   "cell_type": "markdown",
   "metadata": {},
   "source": [
    "### 5.6: Print the data frame in a Boolean form as True or False. True for Null/ NaNvalues and false for non-null values\n",
    " "
   ]
  },
  {
   "cell_type": "code",
   "execution_count": 13,
   "metadata": {
    "collapsed": true
   },
   "outputs": [],
   "source": [
    "Boolean_data = Data1.isnull()"
   ]
  },
  {
   "cell_type": "code",
   "execution_count": 14,
   "metadata": {},
   "outputs": [
    {
     "data": {
      "text/html": [
       "<div>\n",
       "<style scoped>\n",
       "    .dataframe tbody tr th:only-of-type {\n",
       "        vertical-align: middle;\n",
       "    }\n",
       "\n",
       "    .dataframe tbody tr th {\n",
       "        vertical-align: top;\n",
       "    }\n",
       "\n",
       "    .dataframe thead th {\n",
       "        text-align: right;\n",
       "    }\n",
       "</style>\n",
       "<table border=\"1\" class=\"dataframe\">\n",
       "  <thead>\n",
       "    <tr style=\"text-align: right;\">\n",
       "      <th></th>\n",
       "      <th>0</th>\n",
       "      <th>1</th>\n",
       "      <th>2</th>\n",
       "      <th>3</th>\n",
       "      <th>4</th>\n",
       "      <th>5</th>\n",
       "    </tr>\n",
       "  </thead>\n",
       "  <tbody>\n",
       "    <tr>\n",
       "      <th>0</th>\n",
       "      <td>True</td>\n",
       "      <td>False</td>\n",
       "      <td>False</td>\n",
       "      <td>False</td>\n",
       "      <td>False</td>\n",
       "      <td>False</td>\n",
       "    </tr>\n",
       "    <tr>\n",
       "      <th>1</th>\n",
       "      <td>False</td>\n",
       "      <td>False</td>\n",
       "      <td>False</td>\n",
       "      <td>False</td>\n",
       "      <td>False</td>\n",
       "      <td>False</td>\n",
       "    </tr>\n",
       "    <tr>\n",
       "      <th>2</th>\n",
       "      <td>False</td>\n",
       "      <td>False</td>\n",
       "      <td>False</td>\n",
       "      <td>False</td>\n",
       "      <td>False</td>\n",
       "      <td>False</td>\n",
       "    </tr>\n",
       "    <tr>\n",
       "      <th>3</th>\n",
       "      <td>False</td>\n",
       "      <td>False</td>\n",
       "      <td>False</td>\n",
       "      <td>False</td>\n",
       "      <td>False</td>\n",
       "      <td>False</td>\n",
       "    </tr>\n",
       "    <tr>\n",
       "      <th>4</th>\n",
       "      <td>False</td>\n",
       "      <td>False</td>\n",
       "      <td>False</td>\n",
       "      <td>False</td>\n",
       "      <td>False</td>\n",
       "      <td>False</td>\n",
       "    </tr>\n",
       "    <tr>\n",
       "      <th>5</th>\n",
       "      <td>False</td>\n",
       "      <td>False</td>\n",
       "      <td>False</td>\n",
       "      <td>False</td>\n",
       "      <td>False</td>\n",
       "      <td>False</td>\n",
       "    </tr>\n",
       "  </tbody>\n",
       "</table>\n",
       "</div>"
      ],
      "text/plain": [
       "       0      1      2      3      4      5\n",
       "0   True  False  False  False  False  False\n",
       "1  False  False  False  False  False  False\n",
       "2  False  False  False  False  False  False\n",
       "3  False  False  False  False  False  False\n",
       "4  False  False  False  False  False  False\n",
       "5  False  False  False  False  False  False"
      ]
     },
     "execution_count": 14,
     "metadata": {},
     "output_type": "execute_result"
    }
   ],
   "source": [
    "Boolean_data"
   ]
  },
  {
   "cell_type": "markdown",
   "metadata": {},
   "source": [
    "### 5.7: Read the dataframe by skipping first 3 rows and print the data frame "
   ]
  },
  {
   "cell_type": "code",
   "execution_count": 16,
   "metadata": {},
   "outputs": [
    {
     "data": {
      "text/html": [
       "<div>\n",
       "<style scoped>\n",
       "    .dataframe tbody tr th:only-of-type {\n",
       "        vertical-align: middle;\n",
       "    }\n",
       "\n",
       "    .dataframe tbody tr th {\n",
       "        vertical-align: top;\n",
       "    }\n",
       "\n",
       "    .dataframe thead th {\n",
       "        text-align: right;\n",
       "    }\n",
       "</style>\n",
       "<table border=\"1\" class=\"dataframe\">\n",
       "  <thead>\n",
       "    <tr style=\"text-align: right;\">\n",
       "      <th></th>\n",
       "      <th>2</th>\n",
       "      <th>Tina</th>\n",
       "      <th>.</th>\n",
       "      <th>36</th>\n",
       "      <th>31</th>\n",
       "      <th>57</th>\n",
       "    </tr>\n",
       "  </thead>\n",
       "  <tbody>\n",
       "    <tr>\n",
       "      <th>0</th>\n",
       "      <td>3</td>\n",
       "      <td>Jake</td>\n",
       "      <td>Milner</td>\n",
       "      <td>24</td>\n",
       "      <td>.</td>\n",
       "      <td>62</td>\n",
       "    </tr>\n",
       "    <tr>\n",
       "      <th>1</th>\n",
       "      <td>4</td>\n",
       "      <td>Amy</td>\n",
       "      <td>Cooze</td>\n",
       "      <td>73</td>\n",
       "      <td>.</td>\n",
       "      <td>70</td>\n",
       "    </tr>\n",
       "  </tbody>\n",
       "</table>\n",
       "</div>"
      ],
      "text/plain": [
       "   2  Tina       .  36 31  57\n",
       "0  3  Jake  Milner  24  .  62\n",
       "1  4   Amy   Cooze  73  .  70"
      ]
     },
     "execution_count": 16,
     "metadata": {},
     "output_type": "execute_result"
    }
   ],
   "source": [
    "Data_skipped = pd.read_csv('example.csv',skiprows=3)\n",
    "Data_skipped"
   ]
  },
  {
   "cell_type": "markdown",
   "metadata": {},
   "source": [
    "### 5.8: Load a csv file while interpreting \",\" in strings around numbers as thousands seperators. Check the raw data 'postTestScore' column has, as thousands separator. \n",
    "\n",
    "'''Comma should be ignored while reading the data. It is default behaviour, but you\n",
    "need to give argument to read_csv function which makes sure commas are ignored\n",
    " "
   ]
  },
  {
   "cell_type": "code",
   "execution_count": 18,
   "metadata": {},
   "outputs": [
    {
     "data": {
      "text/html": [
       "<div>\n",
       "<style scoped>\n",
       "    .dataframe tbody tr th:only-of-type {\n",
       "        vertical-align: middle;\n",
       "    }\n",
       "\n",
       "    .dataframe tbody tr th {\n",
       "        vertical-align: top;\n",
       "    }\n",
       "\n",
       "    .dataframe thead th {\n",
       "        text-align: right;\n",
       "    }\n",
       "</style>\n",
       "<table border=\"1\" class=\"dataframe\">\n",
       "  <thead>\n",
       "    <tr style=\"text-align: right;\">\n",
       "      <th></th>\n",
       "    </tr>\n",
       "    <tr>\n",
       "      <th>preTestScore</th>\n",
       "    </tr>\n",
       "  </thead>\n",
       "  <tbody>\n",
       "    <tr>\n",
       "      <th>4</th>\n",
       "    </tr>\n",
       "    <tr>\n",
       "      <th>24</th>\n",
       "    </tr>\n",
       "    <tr>\n",
       "      <th>31</th>\n",
       "    </tr>\n",
       "    <tr>\n",
       "      <th>.</th>\n",
       "    </tr>\n",
       "    <tr>\n",
       "      <th>.</th>\n",
       "    </tr>\n",
       "  </tbody>\n",
       "</table>\n",
       "</div>"
      ],
      "text/plain": [
       "Empty DataFrame\n",
       "Columns: []\n",
       "Index: [4, 24, 31, ., .]"
      ]
     },
     "execution_count": 18,
     "metadata": {},
     "output_type": "execute_result"
    }
   ],
   "source": [
    "Data = pd.read_csv('example.csv',index_col=4).filter(regex='\\d{4}')\n",
    "Data"
   ]
  },
  {
   "cell_type": "markdown",
   "metadata": {},
   "source": [
    "### Question 6: "
   ]
  },
  {
   "cell_type": "code",
   "execution_count": 21,
   "metadata": {},
   "outputs": [
    {
     "data": {
      "text/plain": [
       "0    Amit\n",
       "1     Bob\n",
       "2    Kate\n",
       "3       A\n",
       "4       b\n",
       "5     NaN\n",
       "6     Car\n",
       "7     dog\n",
       "8     cat\n",
       "dtype: object"
      ]
     },
     "execution_count": 21,
     "metadata": {},
     "output_type": "execute_result"
    }
   ],
   "source": [
    "Series = pd.Series(['Amit', 'Bob', 'Kate', 'A', 'b', np.nan, 'Car', 'dog', 'cat'])\n",
    "Series"
   ]
  },
  {
   "cell_type": "code",
   "execution_count": 23,
   "metadata": {},
   "outputs": [
    {
     "data": {
      "text/plain": [
       "['amit', 'bob', 'kate', 'a', 'b', 'nan', 'car', 'dog', 'cat']"
      ]
     },
     "execution_count": 23,
     "metadata": {},
     "output_type": "execute_result"
    }
   ],
   "source": [
    "# a) Print all elements in lower case\n",
    "lower = [str(x).lower() for x in Series]\n",
    "lower"
   ]
  },
  {
   "cell_type": "code",
   "execution_count": 24,
   "metadata": {},
   "outputs": [
    {
     "data": {
      "text/plain": [
       "['AMIT', 'BOB', 'KATE', 'A', 'B', 'NAN', 'CAR', 'DOG', 'CAT']"
      ]
     },
     "execution_count": 24,
     "metadata": {},
     "output_type": "execute_result"
    }
   ],
   "source": [
    "# b) Print all the elements in upper case\n",
    "upper = [str(x).upper() for x in Series]\n",
    "upper"
   ]
  },
  {
   "cell_type": "code",
   "execution_count": 33,
   "metadata": {},
   "outputs": [
    {
     "name": "stdout",
     "output_type": "stream",
     "text": [
      "4\n",
      "3\n",
      "4\n",
      "1\n",
      "1\n"
     ]
    },
    {
     "ename": "TypeError",
     "evalue": "object of type 'float' has no len()",
     "output_type": "error",
     "traceback": [
      "\u001b[1;31m---------------------------------------------------------------------------\u001b[0m",
      "\u001b[1;31mTypeError\u001b[0m                                 Traceback (most recent call last)",
      "\u001b[1;32m<ipython-input-33-23db8f0e356b>\u001b[0m in \u001b[0;36m<module>\u001b[1;34m()\u001b[0m\n\u001b[0;32m      1\u001b[0m \u001b[1;31m# c) c) Print the length of all the elements\u001b[0m\u001b[1;33m\u001b[0m\u001b[1;33m\u001b[0m\u001b[1;33m\u001b[0m\u001b[0m\n\u001b[0;32m      2\u001b[0m \u001b[1;32mfor\u001b[0m \u001b[0mx\u001b[0m \u001b[1;32min\u001b[0m \u001b[0mSeries\u001b[0m\u001b[1;33m:\u001b[0m\u001b[1;33m\u001b[0m\u001b[1;33m\u001b[0m\u001b[0m\n\u001b[1;32m----> 3\u001b[1;33m     \u001b[0mprint\u001b[0m\u001b[1;33m(\u001b[0m\u001b[0mlen\u001b[0m\u001b[1;33m(\u001b[0m\u001b[0mx\u001b[0m\u001b[1;33m)\u001b[0m\u001b[1;33m)\u001b[0m\u001b[1;33m\u001b[0m\u001b[1;33m\u001b[0m\u001b[0m\n\u001b[0m",
      "\u001b[1;31mTypeError\u001b[0m: object of type 'float' has no len()"
     ]
    }
   ],
   "source": [
    "# c) c) Print the length of all the elements\n",
    "for x in Series:\n",
    "    print(len(x))"
   ]
  },
  {
   "cell_type": "markdown",
   "metadata": {},
   "source": [
    "### Question 6.2: "
   ]
  },
  {
   "cell_type": "code",
   "execution_count": 42,
   "metadata": {},
   "outputs": [
    {
     "name": "stdout",
     "output_type": "stream",
     "text": [
      "0     Atul\n",
      "1    John \n",
      "2    jack \n",
      "3      Sam\n",
      "dtype: object\n"
     ]
    }
   ],
   "source": [
    "Series2 = pd.Series([ 'Atul', 'John ', 'jack ', 'Sam'])\n",
    "print(Series2)"
   ]
  },
  {
   "cell_type": "code",
   "execution_count": 37,
   "metadata": {},
   "outputs": [
    {
     "data": {
      "text/plain": [
       "['Atul', 'John', 'jack', 'Sam']"
      ]
     },
     "execution_count": 37,
     "metadata": {},
     "output_type": "execute_result"
    }
   ],
   "source": [
    "# a) Print all elements after stripping spaces from the left and right\n",
    "series_stripped = [str(ele).strip() for ele in Series2]\n",
    "series_stripped"
   ]
  },
  {
   "cell_type": "code",
   "execution_count": 40,
   "metadata": {},
   "outputs": [
    {
     "name": "stdout",
     "output_type": "stream",
     "text": [
      "['Atul', 'John ', 'jack ', 'Sam']\n"
     ]
    }
   ],
   "source": [
    "# b) Print all the elements after removing spaces from the left only\n",
    "series_lstripped = [str(ele).lstrip() for ele in Series2]\n",
    "print(series_lstripped)"
   ]
  },
  {
   "cell_type": "code",
   "execution_count": 41,
   "metadata": {},
   "outputs": [
    {
     "name": "stdout",
     "output_type": "stream",
     "text": [
      "['Atul', 'John', 'jack', 'Sam']\n"
     ]
    }
   ],
   "source": [
    "# c) Print all the elements after removing spaces from the right only\n",
    "series_rstripped = [str(ele).rstrip() for ele in Series2]\n",
    "print(series_rstripped)"
   ]
  },
  {
   "cell_type": "markdown",
   "metadata": {},
   "source": [
    "### 6.3: "
   ]
  },
  {
   "cell_type": "code",
   "execution_count": 43,
   "metadata": {},
   "outputs": [
    {
     "name": "stdout",
     "output_type": "stream",
     "text": [
      "0           India_is_big\n",
      "1     Population_is_huge\n",
      "2                    NaN\n",
      "3    Has_diverse_culture\n",
      "dtype: object\n"
     ]
    }
   ],
   "source": [
    "Series3 = pd.Series(['India_is_big', 'Population_is_huge', np.nan, 'Has_diverse_culture'])\n",
    "print(Series3)"
   ]
  },
  {
   "cell_type": "code",
   "execution_count": 44,
   "metadata": {},
   "outputs": [
    {
     "name": "stdout",
     "output_type": "stream",
     "text": [
      "[['India', 'is', 'big'], ['Population', 'is', 'huge'], ['nan'], ['Has', 'diverse', 'culture']]\n"
     ]
    }
   ],
   "source": [
    "# a) split the individual strings wherever ‘_’ comes and create a list out of it.\n",
    "list_splited = [str(ele).split(\"_\") for ele in Series3]\n",
    "print(list_splited)"
   ]
  },
  {
   "cell_type": "code",
   "execution_count": 46,
   "metadata": {},
   "outputs": [
    {
     "name": "stdout",
     "output_type": "stream",
     "text": [
      "India\n",
      "is\n",
      "big\n",
      "Population\n",
      "is\n",
      "huge\n",
      "nan\n",
      "Has\n",
      "diverse\n",
      "culture\n"
     ]
    }
   ],
   "source": [
    "# b) Access the individual element of a list\n",
    "flatten_list = []\n",
    "\n",
    "# b) Access the individual element of a list\n",
    "for sublist in list_splited:\n",
    "    for l in sublist:\n",
    "        flatten_list.append(l)\n",
    "        print(l)"
   ]
  },
  {
   "cell_type": "code",
   "execution_count": 47,
   "metadata": {},
   "outputs": [
    {
     "name": "stdout",
     "output_type": "stream",
     "text": [
      "['India', 'is', 'big', 'Population', 'is', 'huge', 'nan', 'Has', 'diverse', 'culture']\n"
     ]
    }
   ],
   "source": [
    "# c) Expand the elements so that all individual elements get splitted by ‘_’ and insted of list returns individual elements\n",
    "print(flatten_list)"
   ]
  },
  {
   "cell_type": "markdown",
   "metadata": {},
   "source": [
    "### 6.4: "
   ]
  },
  {
   "cell_type": "code",
   "execution_count": 49,
   "metadata": {},
   "outputs": [
    {
     "data": {
      "text/plain": [
       "0       A\n",
       "1       B\n",
       "2       C\n",
       "3    AabX\n",
       "4    BacX\n",
       "5        \n",
       "6     NaN\n",
       "7    CABA\n",
       "8     dog\n",
       "9     cat\n",
       "dtype: object"
      ]
     },
     "execution_count": 49,
     "metadata": {},
     "output_type": "execute_result"
    }
   ],
   "source": [
    "# Create a series and replace either X or dog with XX-XX 'A', 'B', 'C', 'AabX', 'BacX','', np.nan, 'CABA', 'dog', 'cat'\n",
    "Series4 = pd.Series(['A', 'B', 'C', 'AabX', 'BacX','', np.nan, 'CABA', 'dog', 'cat'])\n",
    "Series4"
   ]
  },
  {
   "cell_type": "code",
   "execution_count": 51,
   "metadata": {},
   "outputs": [
    {
     "name": "stdout",
     "output_type": "stream",
     "text": [
      "['A', 'B', 'C', 'AabXX-XX', 'BacXX-XX', '', 'nan', 'CABA', 'XX-XX', 'cat']\n"
     ]
    }
   ],
   "source": [
    "series_replace_X = [str(ele).replace(\"X\", \"XX-XX\").replace(\"dog\", \"XX-XX\") for ele in Series4]\n",
    "print(series_replace_X)"
   ]
  },
  {
   "cell_type": "code",
   "execution_count": 52,
   "metadata": {},
   "outputs": [
    {
     "name": "stdout",
     "output_type": "stream",
     "text": [
      "0         12\n",
      "1       -$10\n",
      "2    $10,000\n",
      "dtype: object\n"
     ]
    }
   ],
   "source": [
    "# 6.5: Create a series and remove dollar from the numeric values \n",
    "# '12', '-$10', '$10,000'\n",
    "series_5 = pd.Series(['12', '-$10', '$10,000'])\n",
    "print(series_5)"
   ]
  },
  {
   "cell_type": "code",
   "execution_count": 53,
   "metadata": {},
   "outputs": [
    {
     "name": "stdout",
     "output_type": "stream",
     "text": [
      "['12', '-10', '10,000']\n"
     ]
    }
   ],
   "source": [
    "series_remove_dollar = [str(ele).replace(\"$\", \"\") for ele in series_5]\n",
    "print(series_remove_dollar)"
   ]
  },
  {
   "cell_type": "code",
   "execution_count": 55,
   "metadata": {},
   "outputs": [
    {
     "name": "stdout",
     "output_type": "stream",
     "text": [
      "0     india 1998\n",
      "1    big country\n",
      "2            NaN\n",
      "dtype: object\n"
     ]
    }
   ],
   "source": [
    "# 6.6:- Create a series and reverse all lower case words 'india 1998', 'big country', np.nan\n",
    "series_6 = pd.Series(['india 1998', 'big country', np.nan])\n",
    "print(series_6)"
   ]
  },
  {
   "cell_type": "code",
   "execution_count": 56,
   "metadata": {},
   "outputs": [
    {
     "name": "stdout",
     "output_type": "stream",
     "text": [
      "2            NaN\n",
      "1    big country\n",
      "0     india 1998\n",
      "dtype: object\n"
     ]
    }
   ],
   "source": [
    "print(series_6[::-1])"
   ]
  },
  {
   "cell_type": "markdown",
   "metadata": {},
   "source": [
    "### # 6.7: Create pandas series and print true if value is alphanumeric in series or false if value is not alpha numeric in series. # '1', '2', '1a', '2b', '2003c' "
   ]
  },
  {
   "cell_type": "code",
   "execution_count": 57,
   "metadata": {},
   "outputs": [
    {
     "name": "stdout",
     "output_type": "stream",
     "text": [
      "0        1\n",
      "1        2\n",
      "2       1a\n",
      "3       2b\n",
      "4    2003c\n",
      "dtype: object\n",
      "[True, True, True, True, True]\n"
     ]
    }
   ],
   "source": [
    "series_7 = pd.Series(['1', '2', '1a', '2b', '2003c'])\n",
    "print(series_7)\n",
    "\n",
    "series_aplha_check = [str(ele).isalnum() for ele in series_7]\n",
    "print(series_aplha_check)"
   ]
  },
  {
   "cell_type": "markdown",
   "metadata": {},
   "source": [
    "### 6.8: Create pandas series and print true if value is containing ‘A’ '1', '2', '1a', '2b', 'America', 'VietnAm','vietnam', '2003c' "
   ]
  },
  {
   "cell_type": "code",
   "execution_count": 59,
   "metadata": {},
   "outputs": [
    {
     "name": "stdout",
     "output_type": "stream",
     "text": [
      "0          1\n",
      "1          2\n",
      "2         1a\n",
      "3         2b\n",
      "4    America\n",
      "5    VietnAm\n",
      "6    vietnam\n",
      "7      2003c\n",
      "dtype: object\n"
     ]
    }
   ],
   "source": [
    "series_8 = pd.Series(['1', '2', '1a', '2b', 'America', 'VietnAm','vietnam', '2003c'])\n",
    "print(series_8)"
   ]
  },
  {
   "cell_type": "code",
   "execution_count": 60,
   "metadata": {},
   "outputs": [
    {
     "name": "stdout",
     "output_type": "stream",
     "text": [
      "[False, False, False, False, True, True, False, False]\n"
     ]
    }
   ],
   "source": [
    "series_true_if_contains_A = [\"A\" in str(ele) for ele in series_8]\n",
    "print(series_true_if_contains_A)"
   ]
  },
  {
   "cell_type": "markdown",
   "metadata": {},
   "source": [
    "### 6.9: Create pandas series and print in three columns value 0 or 1 is a or b or c exists in values 'a', 'a|b', np.nan, 'a|c' "
   ]
  },
  {
   "cell_type": "code",
   "execution_count": 63,
   "metadata": {
    "collapsed": true
   },
   "outputs": [],
   "source": [
    "import re"
   ]
  },
  {
   "cell_type": "code",
   "execution_count": 64,
   "metadata": {},
   "outputs": [
    {
     "name": "stdout",
     "output_type": "stream",
     "text": [
      "0      a\n",
      "1    a|b\n",
      "2    NaN\n",
      "3    a|c\n",
      "dtype: object\n"
     ]
    }
   ],
   "source": [
    "series_9 = pd.Series(['a', 'a|b', np.nan, 'a|c'])\n",
    "print(series_9)"
   ]
  },
  {
   "cell_type": "code",
   "execution_count": 65,
   "metadata": {},
   "outputs": [
    {
     "name": "stdout",
     "output_type": "stream",
     "text": [
      "[1, 1, 0, 1]\n"
     ]
    }
   ],
   "source": [
    "series_a_b_c_exists = [1 if re.match(\"[abc]\", str(ele)) else 0 for ele in series_9]\n",
    "print(series_a_b_c_exists)"
   ]
  },
  {
   "cell_type": "markdown",
   "metadata": {},
   "source": [
    "### 6.10: Create pandas dataframe having keys and ltable and rtable as below -\n",
    "'key': ['One', 'Two'], 'ltable': [1, 2]\n",
    "'key': ['One', 'Two'], 'rtable': [4, 5]\n",
    "Merge both the tables based of key "
   ]
  },
  {
   "cell_type": "code",
   "execution_count": 69,
   "metadata": {},
   "outputs": [],
   "source": [
    "df1 = pd.DataFrame({'key': ['One', 'Two'], 'ltable': [1, 2]})\n",
    "df2 = pd.DataFrame({'key': ['One', 'Two'], 'rtable': [4, 5]})\n",
    "\n",
    "df_merge = pd.merge(df1, df2, sort=True)"
   ]
  },
  {
   "cell_type": "code",
   "execution_count": 68,
   "metadata": {},
   "outputs": [
    {
     "data": {
      "text/html": [
       "<div>\n",
       "<style scoped>\n",
       "    .dataframe tbody tr th:only-of-type {\n",
       "        vertical-align: middle;\n",
       "    }\n",
       "\n",
       "    .dataframe tbody tr th {\n",
       "        vertical-align: top;\n",
       "    }\n",
       "\n",
       "    .dataframe thead th {\n",
       "        text-align: right;\n",
       "    }\n",
       "</style>\n",
       "<table border=\"1\" class=\"dataframe\">\n",
       "  <thead>\n",
       "    <tr style=\"text-align: right;\">\n",
       "      <th></th>\n",
       "      <th>key</th>\n",
       "      <th>ltable</th>\n",
       "      <th>rtable</th>\n",
       "    </tr>\n",
       "  </thead>\n",
       "  <tbody>\n",
       "    <tr>\n",
       "      <th>0</th>\n",
       "      <td>One</td>\n",
       "      <td>1</td>\n",
       "      <td>4</td>\n",
       "    </tr>\n",
       "    <tr>\n",
       "      <th>1</th>\n",
       "      <td>Two</td>\n",
       "      <td>2</td>\n",
       "      <td>5</td>\n",
       "    </tr>\n",
       "  </tbody>\n",
       "</table>\n",
       "</div>"
      ],
      "text/plain": [
       "   key  ltable  rtable\n",
       "0  One       1       4\n",
       "1  Two       2       5"
      ]
     },
     "execution_count": 68,
     "metadata": {},
     "output_type": "execute_result"
    }
   ],
   "source": [
    "df_merge"
   ]
  },
  {
   "cell_type": "code",
   "execution_count": null,
   "metadata": {
    "collapsed": true
   },
   "outputs": [],
   "source": []
  }
 ],
 "metadata": {
  "kernelspec": {
   "display_name": "Python 3",
   "language": "python",
   "name": "python3"
  },
  "language_info": {
   "codemirror_mode": {
    "name": "ipython",
    "version": 3
   },
   "file_extension": ".py",
   "mimetype": "text/x-python",
   "name": "python",
   "nbconvert_exporter": "python",
   "pygments_lexer": "ipython3",
   "version": "3.6.13"
  }
 },
 "nbformat": 4,
 "nbformat_minor": 2
}
