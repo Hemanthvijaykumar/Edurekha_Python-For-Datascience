{
 "cells": [
  {
   "cell_type": "markdown",
   "metadata": {},
   "source": [
    "### 1. A Robot moves in a Plane starting from the origin point (0,0). The robot can movetoward UP, DOWN, LEFT, RIGHT. The trace of Robot movement is as givenfollowing: "
   ]
  },
  {
   "cell_type": "code",
   "execution_count": null,
   "metadata": {
    "collapsed": true
   },
   "outputs": [],
   "source": [
    "'''UP 5\n",
    "DOWN 3\n",
    "LEFT 3\n",
    "RIGHT 2\n",
    "The numbers after directions are steps. Write a program to compute the\n",
    "distance current position after sequence of movements.'''"
   ]
  },
  {
   "cell_type": "code",
   "execution_count": 1,
   "metadata": {
    "collapsed": true
   },
   "outputs": [],
   "source": [
    "import math"
   ]
  },
  {
   "cell_type": "code",
   "execution_count": null,
   "metadata": {},
   "outputs": [
    {
     "name": "stdout",
     "output_type": "stream",
     "text": [
      "Enter ROBOT's movement\n",
      "[Enter 1 to end]>>> 3\n",
      "[Enter 1 to end]>>> 4\n",
      "[Enter 1 to end]>>> 5\n",
      "[Enter 1 to end]>>> 6\n",
      "[Enter 1 to end]>>> 7\n",
      "[Enter 1 to end]>>> 7\n",
      "[Enter 1 to end]>>> end\n",
      "[Enter 1 to end]>>> \n",
      "[Enter 1 to end]>>> \n"
     ]
    }
   ],
   "source": [
    "X = 0\n",
    "Y = 0\n",
    "\n",
    "\n",
    "def get_coordinates(string):\n",
    "    global X\n",
    "    global Y\n",
    "    if string[0].upper() == \"UP\":\n",
    "        Y += int(string[1])\n",
    "    elif string[0].upper() == \"DOWN\":\n",
    "        Y -= int(string[1])\n",
    "    elif string[0].upper() == \"LEFT\":\n",
    "        X -= int(string[1])\n",
    "    elif string[0].upper() == \"RIGHT\":\n",
    "        X += int(string[1])\n",
    "\n",
    "\n",
    "list_moves = []\n",
    "\n",
    "print(\"Enter ROBOT's movement\")\n",
    "while True:\n",
    "    move = input(\"[Enter 1 to end]>>> \")\n",
    "    list_moves.append(move)\n",
    "\n",
    "    if move == \"1\":\n",
    "        for move in list_moves:\n",
    "            get_coordinates(move.split(\" \"))\n",
    "\n",
    "        distance_from_origin = math.sqrt((X**2)+(Y**2))\n",
    "        print(f\"Distance from Origin : {distance_from_origin}\")\n",
    "        print(f\"Final position : ({X}, {Y})\")\n",
    "        break"
   ]
  },
  {
   "cell_type": "markdown",
   "metadata": {
    "collapsed": true
   },
   "source": [
    "### 2. Data of XYZ company is stored in sorted list. Write a program for searching specific data from that list. "
   ]
  },
  {
   "cell_type": "code",
   "execution_count": 2,
   "metadata": {},
   "outputs": [
    {
     "name": "stdout",
     "output_type": "stream",
     "text": [
      "Enter list of items (comma seperated)>>> 1,2,3,4,5,6,9\n",
      "Enter the elements which needs to find>>> 2,3\n",
      "2,3 is not present in given list\n"
     ]
    }
   ],
   "source": [
    "string = input(\"Enter list of items (comma seperated)>>> \")\n",
    "find_ele = input(\"Enter the elements which needs to find>>> \")\n",
    "\n",
    "list_eles = str(string).split(\",\")\n",
    "\n",
    "if find_ele in list_eles:\n",
    "    print(f\"{find_ele} is present in given list at position {list_eles.index(find_ele)+1}\")\n",
    "else:\n",
    "    print(f\"{find_ele} is not present in given list\")"
   ]
  },
  {
   "cell_type": "markdown",
   "metadata": {
    "collapsed": true
   },
   "source": [
    "### # 3. Weather forecasting organization wants to show is it day or night. # So, write a program for such organization to find whether is it dark outside or not. # Hint: Use time module. "
   ]
  },
  {
   "cell_type": "code",
   "execution_count": 3,
   "metadata": {},
   "outputs": [
    {
     "name": "stdout",
     "output_type": "stream",
     "text": [
      "Its light  right now.\n"
     ]
    }
   ],
   "source": [
    "from datetime import datetime\n",
    "\n",
    "\n",
    "def get_part_of_day(hour):\n",
    "    return (\n",
    "        \"light\" if 5 <= hour <= 18\n",
    "        else\n",
    "        \"dark\"\n",
    "    )\n",
    "\n",
    "\n",
    "h = datetime.now().hour\n",
    "\n",
    "print(f\"Its {get_part_of_day(h)}  right now.\")"
   ]
  },
  {
   "cell_type": "code",
   "execution_count": 4,
   "metadata": {},
   "outputs": [
    {
     "data": {
      "text/plain": [
       "'light'"
      ]
     },
     "execution_count": 4,
     "metadata": {},
     "output_type": "execute_result"
    }
   ],
   "source": [
    "get_part_of_day(6)"
   ]
  },
  {
   "cell_type": "code",
   "execution_count": 5,
   "metadata": {},
   "outputs": [
    {
     "data": {
      "text/plain": [
       "'dark'"
      ]
     },
     "execution_count": 5,
     "metadata": {},
     "output_type": "execute_result"
    }
   ],
   "source": [
    "get_part_of_day(20)"
   ]
  },
  {
   "cell_type": "markdown",
   "metadata": {},
   "source": [
    "###  4. Write a program to find distance between two locations when their latitude and longitudes are given."
   ]
  },
  {
   "cell_type": "code",
   "execution_count": 6,
   "metadata": {
    "collapsed": true
   },
   "outputs": [],
   "source": [
    "import math"
   ]
  },
  {
   "cell_type": "code",
   "execution_count": 7,
   "metadata": {
    "collapsed": true
   },
   "outputs": [],
   "source": [
    "def distance(lat1, lon1, lat2, lon2):\n",
    "    radlat1 = math.pi*lat1/180\n",
    "    radlon1 = math.pi*lon1/180\n",
    "    radlat2 = math.pi*lat2/180\n",
    "    radlon2 = math.pi*lon2/180\n",
    "\n",
    "    theta = lon1-lon2\n",
    "    radtheta = math.pi*theta/180\n",
    "\n",
    "    dist = math.sin(radlat1) * math.sin(radlat2) + \\\n",
    "        math.cos(radlat1)*math.cos(radlat2)*math.cos(radtheta)\n",
    "    dist = math.acos(dist)\n",
    "    dist = dist * 180/math.pi\n",
    "    dist = dist*60*1.1515\n",
    "\n",
    "    return"
   ]
  },
  {
   "cell_type": "code",
   "execution_count": 4,
   "metadata": {},
   "outputs": [
    {
     "name": "stdout",
     "output_type": "stream",
     "text": [
      "Enter 1st Latitude and longitude\n",
      ">>> 27.2046\n",
      "Enter 2nd Latitude and longitude\n",
      ">>> 77.4977\n"
     ]
    }
   ],
   "source": [
    "print(\"Enter 1st Latitude and longitude\")\n",
    "latlong1 = input(\">>> \").split(\",\")\n",
    "\n",
    "print(\"Enter 2nd Latitude and longitude\")\n",
    "latlong2 = input(\">>> \").split(\",\")"
   ]
  },
  {
   "cell_type": "code",
   "execution_count": 5,
   "metadata": {},
   "outputs": [
    {
     "ename": "IndexError",
     "evalue": "list index out of range",
     "output_type": "error",
     "traceback": [
      "\u001b[1;31m---------------------------------------------------------------------------\u001b[0m",
      "\u001b[1;31mIndexError\u001b[0m                                Traceback (most recent call last)",
      "\u001b[1;32m<ipython-input-5-dd343c25bf4d>\u001b[0m in \u001b[0;36m<module>\u001b[1;34m()\u001b[0m\n\u001b[0;32m      1\u001b[0m \u001b[0mlat1\u001b[0m \u001b[1;33m=\u001b[0m \u001b[0mfloat\u001b[0m\u001b[1;33m(\u001b[0m\u001b[0mlatlong1\u001b[0m\u001b[1;33m[\u001b[0m\u001b[1;36m0\u001b[0m\u001b[1;33m]\u001b[0m\u001b[1;33m.\u001b[0m\u001b[0mstrip\u001b[0m\u001b[1;33m(\u001b[0m\u001b[1;33m)\u001b[0m\u001b[1;33m)\u001b[0m\u001b[1;33m\u001b[0m\u001b[1;33m\u001b[0m\u001b[0m\n\u001b[1;32m----> 2\u001b[1;33m \u001b[0mlon1\u001b[0m \u001b[1;33m=\u001b[0m \u001b[0mfloat\u001b[0m\u001b[1;33m(\u001b[0m\u001b[0mlatlong1\u001b[0m\u001b[1;33m[\u001b[0m\u001b[1;36m1\u001b[0m\u001b[1;33m]\u001b[0m\u001b[1;33m.\u001b[0m\u001b[0mstrip\u001b[0m\u001b[1;33m(\u001b[0m\u001b[1;33m)\u001b[0m\u001b[1;33m)\u001b[0m\u001b[1;33m\u001b[0m\u001b[1;33m\u001b[0m\u001b[0m\n\u001b[0m\u001b[0;32m      3\u001b[0m \u001b[1;33m\u001b[0m\u001b[0m\n\u001b[0;32m      4\u001b[0m \u001b[0mlat2\u001b[0m \u001b[1;33m=\u001b[0m \u001b[0mfloat\u001b[0m\u001b[1;33m(\u001b[0m\u001b[0mlatlong2\u001b[0m\u001b[1;33m[\u001b[0m\u001b[1;36m0\u001b[0m\u001b[1;33m]\u001b[0m\u001b[1;33m.\u001b[0m\u001b[0mstrip\u001b[0m\u001b[1;33m(\u001b[0m\u001b[1;33m)\u001b[0m\u001b[1;33m)\u001b[0m\u001b[1;33m\u001b[0m\u001b[1;33m\u001b[0m\u001b[0m\n\u001b[0;32m      5\u001b[0m \u001b[0mlon2\u001b[0m \u001b[1;33m=\u001b[0m \u001b[0mfloat\u001b[0m\u001b[1;33m(\u001b[0m\u001b[0mlatlong2\u001b[0m\u001b[1;33m[\u001b[0m\u001b[1;36m1\u001b[0m\u001b[1;33m]\u001b[0m\u001b[1;33m.\u001b[0m\u001b[0mstrip\u001b[0m\u001b[1;33m(\u001b[0m\u001b[1;33m)\u001b[0m\u001b[1;33m)\u001b[0m\u001b[1;33m\u001b[0m\u001b[1;33m\u001b[0m\u001b[0m\n",
      "\u001b[1;31mIndexError\u001b[0m: list index out of range"
     ]
    }
   ],
   "source": [
    "lat1 = float(latlong1[0].strip())\n",
    "lon1 = float(latlong1[1].strip())\n",
    "\n",
    "lat2 = float(latlong2[0].strip())\n",
    "lon2 = float(latlong2[1].strip())\n",
    "\n",
    "dist = distance(lat1, lon1, lat2, lon2)\n",
    "\n",
    "print(\n",
    "    f\"Distance between ({lat1}, {lon1}) and ({lat1}, {lon2}) is {dist}\")"
   ]
  },
  {
   "cell_type": "markdown",
   "metadata": {
    "collapsed": true
   },
   "source": [
    "### 5. Design a software for bank system. There should be options like cash withdraw, cash credit and change password. According to user input, the software should provide required output."
   ]
  },
  {
   "cell_type": "code",
   "execution_count": 7,
   "metadata": {},
   "outputs": [
    {
     "name": "stdout",
     "output_type": "stream",
     "text": [
      "********** ABCD BANK ATM **********\n",
      "********** Welcome **********\n",
      "\n",
      "Enter your 4-digit pin number.\n",
      ">>> 1234\n",
      "\n",
      "\n",
      "Please select your option from below\n",
      "1. Check your balance\n",
      "2. Withdraw cash\n",
      "3. Pin Change\n",
      "4. Mini Statement\n",
      "5. Exit\n",
      "\n",
      "\n",
      ">>> 1\n",
      "****** Cash Balance ******\n",
      "Your latest balance is : 10000\n",
      "\n",
      "\n",
      "Please select your option from below\n",
      "1. Check your balance\n",
      "2. Withdraw cash\n",
      "3. Pin Change\n",
      "4. Mini Statement\n",
      "5. Exit\n",
      "\n",
      "\n",
      ">>> 3\n",
      "****** Pin Change ******\n",
      "Please enter your old pin\n",
      ">>> 1234\n",
      "Please enter new pin number\n",
      ">>> 2345\n",
      "Please re enter new pin number\n",
      ">>> 2345\n",
      "Your pin is successfully changed.\n",
      "\n",
      "\n",
      "Please select your option from below\n",
      "1. Check your balance\n",
      "2. Withdraw cash\n",
      "3. Pin Change\n",
      "4. Mini Statement\n",
      "5. Exit\n",
      "\n",
      "\n",
      ">>> 4\n",
      "****** Mini Statement ******\n",
      "10000 Debited on 2022-02-09 18:05:14.588254\n",
      "Clear Cash Balance now : 10000\n",
      "\n",
      "\n",
      "Please select your option from below\n",
      "1. Check your balance\n",
      "2. Withdraw cash\n",
      "3. Pin Change\n",
      "4. Mini Statement\n",
      "5. Exit\n",
      "\n",
      "\n",
      ">>> 5\n",
      "\n",
      "\n",
      "Thanks for Choosing ABCD Bank.\n",
      "Visit Again.\n"
     ]
    }
   ],
   "source": [
    "from datetime import datetime\n",
    "# ATM Simulation\n",
    "\n",
    "# defaults\n",
    "DEF_PIN_NUMBER = \"1234\"\n",
    "DEF_CASH_BALANCE = 10000\n",
    "\n",
    "print(\"********** ABCD BANK ATM **********\")\n",
    "print(\"********** Welcome **********\\n\")\n",
    "print(\"Enter your 4-digit pin number.\")\n",
    "pin_number = input(\">>> \").strip(\"\")\n",
    "list = [\"10000 Debited on \" + str(datetime.now())]\n",
    "\n",
    "\n",
    "while True:\n",
    "    if DEF_PIN_NUMBER != pin_number:\n",
    "        print(\"Wrong pin number. Please re enter.\")\n",
    "        pin_number = input(\">>> \").strip(\"\")\n",
    "        continue\n",
    "    print(\"\\n\")\n",
    "    print(\"Please select your option from below\")\n",
    "    print(\"1. Check your balance\")\n",
    "    print(\"2. Withdraw cash\")\n",
    "    print(\"3. Pin Change\")\n",
    "    print(\"4. Mini Statement\")\n",
    "    print(\"5. Exit\")\n",
    "    print(\"\\n\")\n",
    "    user_option = input(\">>> \")\n",
    "\n",
    "    if user_option == \"1\":\n",
    "        print(\"****** Cash Balance ******\")\n",
    "        print(\"Your latest balance is : \" + str(DEF_CASH_BALANCE))\n",
    "    elif user_option == \"2\":\n",
    "        print(\"****** Withdraw Cash ******\")\n",
    "        print(\"Enter amount\")\n",
    "        withdraw_amount = int(input(\">>> \"))\n",
    "        if withdraw_amount > DEF_CASH_BALANCE:\n",
    "            print(\"Please select less amount than your cash balance.\")\n",
    "            continue\n",
    "        else:\n",
    "            print(\"****** Please collect cash ******\")\n",
    "            print(str(withdraw_amount))\n",
    "            DEF_CASH_BALANCE -= withdraw_amount\n",
    "            print(\"Available cash balance : \" +\n",
    "                  str(DEF_CASH_BALANCE))\n",
    "            list.append(str(withdraw_amount) + \" Debited on \" +\n",
    "                        str(datetime.now()))\n",
    "            continue\n",
    "    elif user_option == \"3\":\n",
    "        print(\"****** Pin Change ******\")\n",
    "        print(\"Please enter your old pin\")\n",
    "        pin_number = input(\">>> \")\n",
    "        print(\"Please enter new pin number\")\n",
    "        new_pin = input(\">>> \")\n",
    "        print(\"Please re enter new pin number\")\n",
    "        re_new_pin = input(\">>> \")\n",
    "\n",
    "        if pin_number == DEF_PIN_NUMBER and new_pin == re_new_pin:\n",
    "            DEF_PIN_NUMBER = pin_number\n",
    "            print(\"Your pin is successfully changed.\")\n",
    "        else:\n",
    "            print(\"Either old pin is wrong or new pin is not correct\")\n",
    "            print(\"Please re try again\")\n",
    "\n",
    "        continue\n",
    "    elif user_option == \"4\":\n",
    "        print(\"****** Mini Statement ******\")\n",
    "        for item in list:\n",
    "            print(item)\n",
    "        print(\"Clear Cash Balance now : \" + str(DEF_CASH_BALANCE))\n",
    "    elif user_option == \"5\":\n",
    "        print(\"\\n\\nThanks for Choosing ABCD Bank.\\nVisit Again.\")\n",
    "        break\n",
    "    else:\n",
    "        print(\"OOpsss! Seems wrong option. Please reselect option or exit by pressing 5\")"
   ]
  },
  {
   "cell_type": "markdown",
   "metadata": {},
   "source": [
    "### 6. Write a program which will find all such numbers which are divisible by 7 but are not a multiple of 5, between 2000 and 3200 (both included). The numbers obtained should be printed in a comma-separated sequence on a single line. "
   ]
  },
  {
   "cell_type": "code",
   "execution_count": 8,
   "metadata": {},
   "outputs": [
    {
     "name": "stdout",
     "output_type": "stream",
     "text": [
      "2002,2009,2016,2023,2037,2044,2051,2058,2072,2079,2086,2093,2107,2114,2121,2128,2142,2149,2156,2163,2177,2184,2191,2198,2212,2219,2226,2233,2247,2254,2261,2268,2282,2289,2296,2303,2317,2324,2331,2338,2352,2359,2366,2373,2387,2394,2401,2408,2422,2429,2436,2443,2457,2464,2471,2478,2492,2499,2506,2513,2527,2534,2541,2548,2562,2569,2576,2583,2597,2604,2611,2618,2632,2639,2646,2653,2667,2674,2681,2688,2702,2709,2716,2723,2737,2744,2751,2758,2772,2779,2786,2793,2807,2814,2821,2828,2842,2849,2856,2863,2877,2884,2891,2898,2912,2919,2926,2933,2947,2954,2961,2968,2982,2989,2996,3003,3017,3024,3031,3038,3052,3059,3066,3073,3087,3094,3101,3108,3122,3129,3136,3143,3157,3164,3171,3178,3192,3199\n"
     ]
    }
   ],
   "source": [
    "result_list = [str(number) for number in range(\n",
    "    2000, 3201) if (not number % 7) and number % 5]\n",
    "\n",
    "print(\",\".join(result_list))"
   ]
  },
  {
   "cell_type": "markdown",
   "metadata": {},
   "source": [
    "### 7. Write a program which can compute the factorial of a given numbers. Use recursion to find it.  "
   ]
  },
  {
   "cell_type": "code",
   "execution_count": 10,
   "metadata": {},
   "outputs": [
    {
     "name": "stdout",
     "output_type": "stream",
     "text": [
      "Please enter a number\n",
      ">>> 8\n",
      "Factorial of given number is 40320\n"
     ]
    }
   ],
   "source": [
    "def factorial(number):\n",
    "    if number == 0:\n",
    "        return 1\n",
    "    else:\n",
    "        return number*factorial(number-1)\n",
    "\n",
    "\n",
    "print(\"Please enter a number\")\n",
    "number = int(input(\">>> \"))\n",
    "\n",
    "print(f\"Factorial of given number is {factorial(number)}\")"
   ]
  },
  {
   "cell_type": "markdown",
   "metadata": {},
   "source": [
    "### 8. 8. Write a program that calculates and prints the value according to the given formula: Q = Square root of [(2 * C * D)/H]\n",
    "### Following are the fixed values of C and H: C is 50. H is 30.\n",
    "### D is the variable whose values should be input to your program in a commaseparated sequence.  "
   ]
  },
  {
   "cell_type": "code",
   "execution_count": 12,
   "metadata": {},
   "outputs": [
    {
     "name": "stdout",
     "output_type": "stream",
     "text": [
      "Enter numbers\n",
      ">>> 100,150,180\n",
      "18\n",
      "22\n",
      "24\n"
     ]
    }
   ],
   "source": [
    "import math\n",
    "def Function(D):\n",
    "    C = 50\n",
    "    H = 30\n",
    "    return int(math.sqrt(((2*C*D)/H)))\n",
    "\n",
    "\n",
    "print(\"Enter numbers\")\n",
    "numbers = input(\">>> \")\n",
    "\n",
    "numbers_list = [int(number) for number in numbers.split(\",\")]\n",
    "\n",
    "for number in numbers_list:\n",
    "    print(Function(number))"
   ]
  },
  {
   "cell_type": "markdown",
   "metadata": {},
   "source": [
    "### 9) 9. Write a program which takes 2 digits, X,Y as input and generates a 2-dimensional array. The element value in the i-th row and j-th column of the array should be i*j. Note: i=0,1.., X-1; j=0,1,¡-Y-1. "
   ]
  },
  {
   "cell_type": "code",
   "execution_count": 13,
   "metadata": {},
   "outputs": [
    {
     "name": "stdout",
     "output_type": "stream",
     "text": [
      "Enter the X,Y\n",
      ">>> 3,5\n",
      "[[0, 0, 0, 0, 0], [0, 1, 2, 3, 4], [0, 2, 4, 6, 8]]\n"
     ]
    }
   ],
   "source": [
    "print(\"Enter the X,Y\")\n",
    "XY = input(\">>> \").split(\",\")\n",
    "\n",
    "list_array = []\n",
    "\n",
    "X = int(XY[0].strip())\n",
    "Y = int(XY[1].strip())\n",
    "\n",
    "for x in range(X):\n",
    "    list_temp = []\n",
    "    for y in range(Y):\n",
    "        list_temp.append(y*x)\n",
    "    list_array.append(list_temp)\n",
    "\n",
    "print(list_array)"
   ]
  },
  {
   "cell_type": "markdown",
   "metadata": {},
   "source": [
    "### 10.Write a program that accepts a comma separated sequence of words as input and prints the words in a comma-separated sequence after sorting them alphabetically. "
   ]
  },
  {
   "cell_type": "code",
   "execution_count": 14,
   "metadata": {},
   "outputs": [
    {
     "name": "stdout",
     "output_type": "stream",
     "text": [
      "Enter strings\n",
      ">>> 'bag','zebra','coat'\n",
      "'bag','coat','zebra'\n"
     ]
    }
   ],
   "source": [
    "print(\"Enter strings\")\n",
    "strings = input(\">>> \")\n",
    "\n",
    "string_list = strings.split(\",\")\n",
    "string_list.sort()\n",
    "print(\",\".join(string_list))"
   ]
  },
  {
   "cell_type": "markdown",
   "metadata": {},
   "source": [
    "### 11.Write a program that accepts sequence of lines as input and prints the lines after making all characters in the sentence capitalized. "
   ]
  },
  {
   "cell_type": "code",
   "execution_count": 15,
   "metadata": {},
   "outputs": [
    {
     "name": "stdout",
     "output_type": "stream",
     "text": [
      "Enter strings\n",
      "[Enter 1 to break]>>> Hello world practice makes perfect\n",
      "HELLO WORLD PRACTICE MAKES PERFECT\n",
      "[Enter 1 to break]>>> 1\n"
     ]
    }
   ],
   "source": [
    "print(\"Enter strings\")\n",
    "\n",
    "while True:\n",
    "    string = input(\"[Enter 1 to break]>>> \")\n",
    "    if string == \"1\":\n",
    "        break\n",
    "    print(string.upper())"
   ]
  },
  {
   "cell_type": "markdown",
   "metadata": {},
   "source": [
    "### 12. Write a program that accepts a sequence of whitespace separated words as input and prints the words after removing all duplicate words and sorting them alphanumerically."
   ]
  },
  {
   "cell_type": "code",
   "execution_count": null,
   "metadata": {},
   "outputs": [
    {
     "name": "stdout",
     "output_type": "stream",
     "text": [
      "Enter string\n"
     ]
    }
   ],
   "source": [
    "print(\"Enter string\")\n",
    "string = input(\">>> \")\n",
    "\n",
    "string_list = string.split(\" \")\n",
    "unique_words = list(set(string_list))\n",
    "unique_words.sort()\n",
    "\n",
    "print(\" \".join(unique_words))"
   ]
  },
  {
   "cell_type": "markdown",
   "metadata": {},
   "source": [
    "###  13.Write a program which accepts a sequence of comma separated 4 digit binarynumbers as its input and then check whether they are divisible by 5 or not. The numbers that are divisible by 5 are to be printed in a comma separated sequence."
   ]
  },
  {
   "cell_type": "code",
   "execution_count": 1,
   "metadata": {},
   "outputs": [
    {
     "name": "stdout",
     "output_type": "stream",
     "text": [
      "Enter comma seperated Binary numbers\n",
      ">>> 0100,0011,1010,1001\n",
      "1010\n"
     ]
    }
   ],
   "source": [
    "print(\"Enter comma seperated Binary numbers\")\n",
    "string = input(\">>> \")\n",
    "\n",
    "binary_list = string.split(\",\")\n",
    "result_list = [bin_number for bin_number in binary_list if int(\n",
    "    bin_number, 2) % 5 == 0]\n",
    "\n",
    "result = \",\".join(result_list)\n",
    "\n",
    "print(result)"
   ]
  },
  {
   "cell_type": "markdown",
   "metadata": {
    "collapsed": true
   },
   "source": [
    "### 14.Write a program that accepts a sentence and calculate the number of upper case letters and lower case letters. "
   ]
  },
  {
   "cell_type": "code",
   "execution_count": 2,
   "metadata": {},
   "outputs": [
    {
     "name": "stdout",
     "output_type": "stream",
     "text": [
      "Enter string\n",
      ">>> Hello world!\n",
      "UPPER CASE 1\n",
      "LOWER CASE 9\n"
     ]
    }
   ],
   "source": [
    "print(\"Enter string\")\n",
    "string = input(\">>> \")\n",
    "\n",
    "upper_case_letters = 0\n",
    "lower_case_letters = 0\n",
    "\n",
    "for s in string:\n",
    "    if s.islower():\n",
    "        lower_case_letters += 1\n",
    "    elif s.isupper():\n",
    "        upper_case_letters += 1\n",
    "\n",
    "print(f\"UPPER CASE {upper_case_letters}\")\n",
    "print(f\"LOWER CASE {lower_case_letters}\")"
   ]
  },
  {
   "cell_type": "markdown",
   "metadata": {},
   "source": [
    "###  Give example of fsum and sum function of math library"
   ]
  },
  {
   "cell_type": "code",
   "execution_count": 3,
   "metadata": {},
   "outputs": [
    {
     "name": "stdout",
     "output_type": "stream",
     "text": [
      "45\n",
      "45\n",
      "45\n",
      "45\n",
      "45.0\n",
      "45.0\n",
      "45.0\n",
      "45.0\n"
     ]
    }
   ],
   "source": [
    "import math\n",
    "\n",
    "# list\n",
    "print(sum([1, 2, 3, 4, 5, 6, 7, 8, 9]))\n",
    "# tuple\n",
    "print(sum((1, 2, 3, 4, 5, 6, 7, 8, 9)))\n",
    "# set\n",
    "print(sum({1, 2, 3, 4, 5, 6, 7, 8, 9}))\n",
    "# range\n",
    "print(sum(range(1, 10)))\n",
    "\n",
    "# list\n",
    "print(math.fsum([1, 2, 3, 4, 5, 6, 7, 8, 9]))\n",
    "# tuple\n",
    "print(math.fsum((1, 2, 3, 4, 5, 6, 7, 8, 9)))\n",
    "# set\n",
    "print(math.fsum({1, 2, 3, 4, 5, 6, 7, 8, 9}))\n",
    "# range\n",
    "print(math.fsum(range(1, 10)))"
   ]
  },
  {
   "cell_type": "code",
   "execution_count": null,
   "metadata": {
    "collapsed": true
   },
   "outputs": [],
   "source": []
  }
 ],
 "metadata": {
  "kernelspec": {
   "display_name": "Python 3",
   "language": "python",
   "name": "python3"
  },
  "language_info": {
   "codemirror_mode": {
    "name": "ipython",
    "version": 3
   },
   "file_extension": ".py",
   "mimetype": "text/x-python",
   "name": "python",
   "nbconvert_exporter": "python",
   "pygments_lexer": "ipython3",
   "version": "3.6.13"
  }
 },
 "nbformat": 4,
 "nbformat_minor": 2
}
