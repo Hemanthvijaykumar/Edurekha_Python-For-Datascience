{
 "cells": [
  {
   "cell_type": "code",
   "execution_count": null,
   "metadata": {},
   "outputs": [
    {
     "name": "stdout",
     "output_type": "stream",
     "text": [
      "Max age for loan eligibility 80.0\n",
      "Min age for loan eligibility 19.0\n",
      "Unique jobs\n",
      "{'management', 'services', 'entrepreneur', 'admin.', 'student', 'technician', 'housemaid', 'blue-collar', 'self-employed'}\n",
      "****** Bank of Portugal Portal *******\n",
      "Check your eligibility for loan\n",
      "Enter END/end to quit else continue>>> services\n",
      "Enter the profession\n",
      ">>> services\n",
      "Given profession exists in list\n",
      "\n",
      "\n",
      "Please enter the below details to check whether you are eligible or not for Loan\n",
      "Age >>> 24\n",
      "Marital Status [Married/Single/Divorced] >>> Single\n",
      "\n",
      "\n",
      "Sorry!! You are not eligible for loan.\n",
      "Enter END/end to quit else continue>>> quit\n",
      "Enter the profession\n"
     ]
    }
   ],
   "source": [
    "import csv\n",
    "\n",
    "csv_data = []\n",
    "\n",
    "with open(\"bank-data.csv\")as f:\n",
    "    reader = csv.DictReader(f)\n",
    "    csv_data = [r for r in reader]\n",
    "\n",
    "###### Enhancement Codes #######\n",
    "# Max and Min age for loan eligibility\n",
    "ages = list([float(data['age']) for data in csv_data])\n",
    "\n",
    "# Dictionary of max min ages\n",
    "max_min_age = {\"max\": max(ages), \"min\": min(ages)}\n",
    "\n",
    "print(\"Max age for loan eligibility \" + str(max_min_age['max']))\n",
    "print(\"Min age for loan eligibility \" + str(max_min_age['min']))\n",
    "\n",
    "\n",
    "###### Required Codes ########\n",
    "\n",
    "# Unique Jobs\n",
    "unique_jobs = set([data['job'].lower() for data in csv_data])\n",
    "print(\"Unique jobs\")\n",
    "print(unique_jobs)\n",
    "\n",
    "print(\"****** Bank of Portugal Portal *******\")\n",
    "print(\"Check your eligibility for loan\")\n",
    "\n",
    "# While loop to check profession without ending except user ends\n",
    "while True:\n",
    "    user_input = input(\"Enter END/end to quit else continue>>> \")\n",
    "\n",
    "    if user_input.lower() != \"end\":\n",
    "        print(\"Enter the profession\")\n",
    "        client_profession = input(\">>> \").strip()\n",
    "\n",
    "        # Profession check with case insensitive by making it lower/upper\n",
    "        if client_profession.lower() in unique_jobs:\n",
    "            print(\"Given profession exists in list\")\n",
    "            print(\"\\n\")\n",
    "            print(\n",
    "                \"Please enter the below details to check whether you are eligible or not for Loan\")\n",
    "            client_age = input(\"Age >>> \").strip()\n",
    "            marital_status = input(\n",
    "                \"Marital Status [Married/Single/Divorced] >>> \").strip()\n",
    "            print(\"\\n\")\n",
    "\n",
    "            check_eligibility = set([data['y'] for data in csv_data if (int(data['age']) == int(client_age) and data['job'].lower(\n",
    "            ) == client_profession.lower() and data['marital'].lower() == marital_status.lower())])\n",
    "\n",
    "            if \"yes\" in check_eligibility:\n",
    "                print(\"Congratulations!! You are eligible for loan.\")\n",
    "            else:\n",
    "                print(\"Sorry!! You are not eligible for loan.\")\n",
    "        else:\n",
    "            print(\"Given profession does not exist in list\")\n",
    "    else:\n",
    "        break"
   ]
  },
  {
   "cell_type": "code",
   "execution_count": null,
   "metadata": {
    "collapsed": true
   },
   "outputs": [],
   "source": []
  }
 ],
 "metadata": {
  "kernelspec": {
   "display_name": "Python 3",
   "language": "python",
   "name": "python3"
  },
  "language_info": {
   "codemirror_mode": {
    "name": "ipython",
    "version": 3
   },
   "file_extension": ".py",
   "mimetype": "text/x-python",
   "name": "python",
   "nbconvert_exporter": "python",
   "pygments_lexer": "ipython3",
   "version": "3.6.13"
  }
 },
 "nbformat": 4,
 "nbformat_minor": 2
}
